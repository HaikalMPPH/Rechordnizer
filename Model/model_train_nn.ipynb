{
 "cells": [
  {
   "cell_type": "code",
   "execution_count": 1,
   "id": "a86b41fd-04c1-483c-b2fc-56926d6c3707",
   "metadata": {},
   "outputs": [
    {
     "name": "stderr",
     "output_type": "stream",
     "text": [
      "2025-07-01 12:59:49.014926: I tensorflow/core/platform/cpu_feature_guard.cc:210] This TensorFlow binary is optimized to use available CPU instructions in performance-critical operations.\n",
      "To enable the following instructions: SSE3 SSE4.1 SSE4.2 AVX AVX2 FMA, in other operations, rebuild TensorFlow with the appropriate compiler flags.\n"
     ]
    },
    {
     "ename": "AttributeError",
     "evalue": "'MessageFactory' object has no attribute 'GetPrototype'",
     "output_type": "error",
     "traceback": [
      "\u001b[31m---------------------------------------------------------------------------\u001b[39m",
      "\u001b[31mAttributeError\u001b[39m                            Traceback (most recent call last)",
      "\u001b[31mAttributeError\u001b[39m: 'MessageFactory' object has no attribute 'GetPrototype'"
     ]
    },
    {
     "ename": "AttributeError",
     "evalue": "'MessageFactory' object has no attribute 'GetPrototype'",
     "output_type": "error",
     "traceback": [
      "\u001b[31m---------------------------------------------------------------------------\u001b[39m",
      "\u001b[31mAttributeError\u001b[39m                            Traceback (most recent call last)",
      "\u001b[31mAttributeError\u001b[39m: 'MessageFactory' object has no attribute 'GetPrototype'"
     ]
    },
    {
     "ename": "AttributeError",
     "evalue": "'MessageFactory' object has no attribute 'GetPrototype'",
     "output_type": "error",
     "traceback": [
      "\u001b[31m---------------------------------------------------------------------------\u001b[39m",
      "\u001b[31mAttributeError\u001b[39m                            Traceback (most recent call last)",
      "\u001b[31mAttributeError\u001b[39m: 'MessageFactory' object has no attribute 'GetPrototype'"
     ]
    },
    {
     "ename": "AttributeError",
     "evalue": "'MessageFactory' object has no attribute 'GetPrototype'",
     "output_type": "error",
     "traceback": [
      "\u001b[31m---------------------------------------------------------------------------\u001b[39m",
      "\u001b[31mAttributeError\u001b[39m                            Traceback (most recent call last)",
      "\u001b[31mAttributeError\u001b[39m: 'MessageFactory' object has no attribute 'GetPrototype'"
     ]
    },
    {
     "ename": "AttributeError",
     "evalue": "'MessageFactory' object has no attribute 'GetPrototype'",
     "output_type": "error",
     "traceback": [
      "\u001b[31m---------------------------------------------------------------------------\u001b[39m",
      "\u001b[31mAttributeError\u001b[39m                            Traceback (most recent call last)",
      "\u001b[31mAttributeError\u001b[39m: 'MessageFactory' object has no attribute 'GetPrototype'"
     ]
    }
   ],
   "source": [
    "import tensorflow as tf\n",
    "import numpy as np\n",
    "import pandas as pd\n",
    "import sklearn as sk\n",
    "import joblib\n",
    "import random\n",
    "import gc"
   ]
  },
  {
   "cell_type": "code",
   "execution_count": 2,
   "id": "bd50646b-5ad4-4ade-93b2-0b42201c6398",
   "metadata": {},
   "outputs": [
    {
     "name": "stdout",
     "output_type": "stream",
     "text": [
      "Num GPUs Available: 0\n"
     ]
    }
   ],
   "source": [
    "print(\"Num GPUs Available:\", len(tf.config.list_physical_devices('GPU')))"
   ]
  },
  {
   "cell_type": "code",
   "execution_count": 3,
   "id": "a9bdfa92-78f8-4b7c-b19e-8d2b81782799",
   "metadata": {},
   "outputs": [
    {
     "data": {
      "text/html": [
       "<div>\n",
       "<style scoped>\n",
       "    .dataframe tbody tr th:only-of-type {\n",
       "        vertical-align: middle;\n",
       "    }\n",
       "\n",
       "    .dataframe tbody tr th {\n",
       "        vertical-align: top;\n",
       "    }\n",
       "\n",
       "    .dataframe thead th {\n",
       "        text-align: right;\n",
       "    }\n",
       "</style>\n",
       "<table border=\"1\" class=\"dataframe\">\n",
       "  <thead>\n",
       "    <tr style=\"text-align: right;\">\n",
       "      <th></th>\n",
       "      <th>Cqt_C</th>\n",
       "      <th>Cqt_Db</th>\n",
       "      <th>Cqt_D</th>\n",
       "      <th>Cqt_Eb</th>\n",
       "      <th>Cqt_E</th>\n",
       "      <th>Cqt_F</th>\n",
       "      <th>Cqt_Gb</th>\n",
       "      <th>Cqt_G</th>\n",
       "      <th>Cqt_Ab</th>\n",
       "      <th>Cqt_A</th>\n",
       "      <th>Cqt_Bb</th>\n",
       "      <th>Cqt_B</th>\n",
       "      <th>chord</th>\n",
       "    </tr>\n",
       "  </thead>\n",
       "  <tbody>\n",
       "    <tr>\n",
       "      <th>0</th>\n",
       "      <td>0.471546</td>\n",
       "      <td>0.222220</td>\n",
       "      <td>0.447305</td>\n",
       "      <td>0.591948</td>\n",
       "      <td>0.477934</td>\n",
       "      <td>1.000000</td>\n",
       "      <td>0.274915</td>\n",
       "      <td>0.219494</td>\n",
       "      <td>0.184126</td>\n",
       "      <td>0.101357</td>\n",
       "      <td>0.065740</td>\n",
       "      <td>0.100825</td>\n",
       "      <td>FMin7</td>\n",
       "    </tr>\n",
       "    <tr>\n",
       "      <th>1</th>\n",
       "      <td>0.471546</td>\n",
       "      <td>0.222220</td>\n",
       "      <td>0.447305</td>\n",
       "      <td>0.591948</td>\n",
       "      <td>0.477934</td>\n",
       "      <td>1.000000</td>\n",
       "      <td>0.274915</td>\n",
       "      <td>0.219494</td>\n",
       "      <td>0.184126</td>\n",
       "      <td>0.101357</td>\n",
       "      <td>0.065740</td>\n",
       "      <td>0.100825</td>\n",
       "      <td>FMin7</td>\n",
       "    </tr>\n",
       "    <tr>\n",
       "      <th>2</th>\n",
       "      <td>0.525008</td>\n",
       "      <td>0.214509</td>\n",
       "      <td>0.273993</td>\n",
       "      <td>0.357224</td>\n",
       "      <td>0.350424</td>\n",
       "      <td>1.000000</td>\n",
       "      <td>0.180266</td>\n",
       "      <td>0.187004</td>\n",
       "      <td>0.137805</td>\n",
       "      <td>0.085566</td>\n",
       "      <td>0.054410</td>\n",
       "      <td>0.103364</td>\n",
       "      <td>FMin7</td>\n",
       "    </tr>\n",
       "    <tr>\n",
       "      <th>3</th>\n",
       "      <td>0.548730</td>\n",
       "      <td>0.214509</td>\n",
       "      <td>0.273993</td>\n",
       "      <td>0.357224</td>\n",
       "      <td>0.350424</td>\n",
       "      <td>1.000000</td>\n",
       "      <td>0.180266</td>\n",
       "      <td>0.187004</td>\n",
       "      <td>0.137805</td>\n",
       "      <td>0.085566</td>\n",
       "      <td>0.054410</td>\n",
       "      <td>0.103438</td>\n",
       "      <td>FMin7</td>\n",
       "    </tr>\n",
       "    <tr>\n",
       "      <th>4</th>\n",
       "      <td>0.606835</td>\n",
       "      <td>0.214509</td>\n",
       "      <td>0.273993</td>\n",
       "      <td>0.357224</td>\n",
       "      <td>0.350424</td>\n",
       "      <td>1.000000</td>\n",
       "      <td>0.180266</td>\n",
       "      <td>0.187004</td>\n",
       "      <td>0.137805</td>\n",
       "      <td>0.085566</td>\n",
       "      <td>0.054410</td>\n",
       "      <td>0.113766</td>\n",
       "      <td>FMin7</td>\n",
       "    </tr>\n",
       "    <tr>\n",
       "      <th>...</th>\n",
       "      <td>...</td>\n",
       "      <td>...</td>\n",
       "      <td>...</td>\n",
       "      <td>...</td>\n",
       "      <td>...</td>\n",
       "      <td>...</td>\n",
       "      <td>...</td>\n",
       "      <td>...</td>\n",
       "      <td>...</td>\n",
       "      <td>...</td>\n",
       "      <td>...</td>\n",
       "      <td>...</td>\n",
       "      <td>...</td>\n",
       "    </tr>\n",
       "    <tr>\n",
       "      <th>1193</th>\n",
       "      <td>0.981889</td>\n",
       "      <td>0.063128</td>\n",
       "      <td>0.412929</td>\n",
       "      <td>0.034860</td>\n",
       "      <td>0.079848</td>\n",
       "      <td>0.029547</td>\n",
       "      <td>0.113578</td>\n",
       "      <td>0.030053</td>\n",
       "      <td>0.020699</td>\n",
       "      <td>0.045428</td>\n",
       "      <td>0.011384</td>\n",
       "      <td>0.068915</td>\n",
       "      <td>D7</td>\n",
       "    </tr>\n",
       "    <tr>\n",
       "      <th>1194</th>\n",
       "      <td>0.981889</td>\n",
       "      <td>0.064797</td>\n",
       "      <td>0.348677</td>\n",
       "      <td>0.036478</td>\n",
       "      <td>0.079848</td>\n",
       "      <td>0.033618</td>\n",
       "      <td>0.120837</td>\n",
       "      <td>0.045060</td>\n",
       "      <td>0.025011</td>\n",
       "      <td>0.039565</td>\n",
       "      <td>0.013037</td>\n",
       "      <td>0.068915</td>\n",
       "      <td>D7</td>\n",
       "    </tr>\n",
       "    <tr>\n",
       "      <th>1195</th>\n",
       "      <td>0.981889</td>\n",
       "      <td>0.063128</td>\n",
       "      <td>0.301315</td>\n",
       "      <td>0.036478</td>\n",
       "      <td>0.079848</td>\n",
       "      <td>0.042244</td>\n",
       "      <td>0.111068</td>\n",
       "      <td>0.045060</td>\n",
       "      <td>0.027699</td>\n",
       "      <td>0.037074</td>\n",
       "      <td>0.027852</td>\n",
       "      <td>0.067913</td>\n",
       "      <td>D7</td>\n",
       "    </tr>\n",
       "    <tr>\n",
       "      <th>1196</th>\n",
       "      <td>0.981889</td>\n",
       "      <td>0.064797</td>\n",
       "      <td>0.301315</td>\n",
       "      <td>0.054282</td>\n",
       "      <td>0.079848</td>\n",
       "      <td>0.043336</td>\n",
       "      <td>0.063070</td>\n",
       "      <td>0.046707</td>\n",
       "      <td>0.029380</td>\n",
       "      <td>0.033834</td>\n",
       "      <td>0.034683</td>\n",
       "      <td>0.067913</td>\n",
       "      <td>D7</td>\n",
       "    </tr>\n",
       "    <tr>\n",
       "      <th>1197</th>\n",
       "      <td>0.633150</td>\n",
       "      <td>0.074243</td>\n",
       "      <td>0.301208</td>\n",
       "      <td>0.057817</td>\n",
       "      <td>0.079848</td>\n",
       "      <td>0.054537</td>\n",
       "      <td>0.138766</td>\n",
       "      <td>0.047480</td>\n",
       "      <td>0.037856</td>\n",
       "      <td>0.037074</td>\n",
       "      <td>0.034683</td>\n",
       "      <td>0.067913</td>\n",
       "      <td>D7</td>\n",
       "    </tr>\n",
       "  </tbody>\n",
       "</table>\n",
       "<p>239900 rows × 13 columns</p>\n",
       "</div>"
      ],
      "text/plain": [
       "         Cqt_C    Cqt_Db     Cqt_D    Cqt_Eb     Cqt_E     Cqt_F    Cqt_Gb  \\\n",
       "0     0.471546  0.222220  0.447305  0.591948  0.477934  1.000000  0.274915   \n",
       "1     0.471546  0.222220  0.447305  0.591948  0.477934  1.000000  0.274915   \n",
       "2     0.525008  0.214509  0.273993  0.357224  0.350424  1.000000  0.180266   \n",
       "3     0.548730  0.214509  0.273993  0.357224  0.350424  1.000000  0.180266   \n",
       "4     0.606835  0.214509  0.273993  0.357224  0.350424  1.000000  0.180266   \n",
       "...        ...       ...       ...       ...       ...       ...       ...   \n",
       "1193  0.981889  0.063128  0.412929  0.034860  0.079848  0.029547  0.113578   \n",
       "1194  0.981889  0.064797  0.348677  0.036478  0.079848  0.033618  0.120837   \n",
       "1195  0.981889  0.063128  0.301315  0.036478  0.079848  0.042244  0.111068   \n",
       "1196  0.981889  0.064797  0.301315  0.054282  0.079848  0.043336  0.063070   \n",
       "1197  0.633150  0.074243  0.301208  0.057817  0.079848  0.054537  0.138766   \n",
       "\n",
       "         Cqt_G    Cqt_Ab     Cqt_A    Cqt_Bb     Cqt_B  chord  \n",
       "0     0.219494  0.184126  0.101357  0.065740  0.100825  FMin7  \n",
       "1     0.219494  0.184126  0.101357  0.065740  0.100825  FMin7  \n",
       "2     0.187004  0.137805  0.085566  0.054410  0.103364  FMin7  \n",
       "3     0.187004  0.137805  0.085566  0.054410  0.103438  FMin7  \n",
       "4     0.187004  0.137805  0.085566  0.054410  0.113766  FMin7  \n",
       "...        ...       ...       ...       ...       ...    ...  \n",
       "1193  0.030053  0.020699  0.045428  0.011384  0.068915     D7  \n",
       "1194  0.045060  0.025011  0.039565  0.013037  0.068915     D7  \n",
       "1195  0.045060  0.027699  0.037074  0.027852  0.067913     D7  \n",
       "1196  0.046707  0.029380  0.033834  0.034683  0.067913     D7  \n",
       "1197  0.047480  0.037856  0.037074  0.034683  0.067913     D7  \n",
       "\n",
       "[239900 rows x 13 columns]"
      ]
     },
     "execution_count": 3,
     "metadata": {},
     "output_type": "execute_result"
    }
   ],
   "source": [
    "df = pd.read_hdf(\"./dataset.h5\", key=\"df\")\n",
    "df"
   ]
  },
  {
   "cell_type": "code",
   "execution_count": 4,
   "id": "155fb292-42c6-4743-bf2d-4325516940ff",
   "metadata": {},
   "outputs": [
    {
     "name": "stdout",
     "output_type": "stream",
     "text": [
      "Chords\n",
      "chord\n",
      "CMin7     11630\n",
      "AbMin7    11611\n",
      "GbMin7    11600\n",
      "DbMin7    11514\n",
      "FMin7     11264\n",
      "EMin7     11163\n",
      "AMin7     11118\n",
      "DMin7     11039\n",
      "BbMin7    11026\n",
      "EbMin7    10884\n",
      "GMin7     10876\n",
      "BMin7     10825\n",
      "AMaj7      6860\n",
      "EMaj7      6518\n",
      "GbMaj7     6493\n",
      "CMaj7      6406\n",
      "AbMaj7     6379\n",
      "FMaj7      6278\n",
      "BbMaj7     6270\n",
      "GMaj7      6249\n",
      "DbMaj7     6240\n",
      "DMaj7      6212\n",
      "EbMaj7     6185\n",
      "BMaj7      6135\n",
      "G7         2692\n",
      "B7         2536\n",
      "Db7        2428\n",
      "Bb7        2427\n",
      "Ab7        2426\n",
      "C7         2400\n",
      "D7         2399\n",
      "Eb7        2389\n",
      "A7         2384\n",
      "Gb7        2359\n",
      "E7         2345\n",
      "F7         2340\n",
      "Name: count, dtype: int64\n"
     ]
    }
   ],
   "source": [
    "print(\"Chords\")\n",
    "print(df[\"chord\"].value_counts())"
   ]
  },
  {
   "cell_type": "code",
   "execution_count": 5,
   "id": "f22910a2-a2b3-4672-8409-0d9335166d63",
   "metadata": {},
   "outputs": [
    {
     "data": {
      "text/plain": [
       "['./encoder.xz']"
      ]
     },
     "execution_count": 5,
     "metadata": {},
     "output_type": "execute_result"
    }
   ],
   "source": [
    "y = df[\"chord\"]\n",
    "X = df.drop(columns=\"chord\")\n",
    "encoder = sk.preprocessing.LabelEncoder()\n",
    "y_encoded = encoder.fit_transform(y)\n",
    "\n",
    "joblib.dump(encoder, \"./encoder.xz\")"
   ]
  },
  {
   "cell_type": "code",
   "execution_count": 6,
   "id": "01f9d408-e165-4e68-941f-ccdcd4c36b1d",
   "metadata": {},
   "outputs": [
    {
     "data": {
      "text/plain": [
       "20"
      ]
     },
     "execution_count": 6,
     "metadata": {},
     "output_type": "execute_result"
    }
   ],
   "source": [
    "del df\n",
    "gc.collect()"
   ]
  },
  {
   "cell_type": "markdown",
   "id": "1bb64354-b100-49f1-bce9-dc17f43e08b2",
   "metadata": {},
   "source": [
    "# LSTM"
   ]
  },
  {
   "cell_type": "code",
   "execution_count": 7,
   "id": "a22ecbda-f306-4fea-9746-7d4ca17726fd",
   "metadata": {},
   "outputs": [
    {
     "name": "stdout",
     "output_type": "stream",
     "text": [
      "X sequence shape:  (239881, 20, 12)\n",
      "y sequence shape:  (239881,)\n"
     ]
    },
    {
     "data": {
      "text/plain": [
       "0"
      ]
     },
     "execution_count": 7,
     "metadata": {},
     "output_type": "execute_result"
    }
   ],
   "source": [
    "SEQUENCE_LEN = 20 # 0.1 * 20.0 = 2 sec of sequence data\n",
    "\n",
    "X_seq, y_encoded_seq = None, None\n",
    "X_seq_list = []\n",
    "y_encoded_seq_list = []\n",
    "for i in range(len(X) - SEQUENCE_LEN + 1):\n",
    "    X_seq_list.append(X.values[i : i + SEQUENCE_LEN, :])\n",
    "    y_encoded_seq_list.append(y_encoded[i + SEQUENCE_LEN - 1])\n",
    "\n",
    "X_seq, y_encoded_seq = np.array(X_seq_list), np.array(y_encoded_seq_list)\n",
    "\n",
    "print(\"X sequence shape: \", X_seq.shape)\n",
    "print(\"y sequence shape: \", y_encoded_seq.shape)\n",
    "\n",
    "del X_seq_list\n",
    "del y_encoded_seq_list\n",
    "gc.collect()"
   ]
  },
  {
   "cell_type": "code",
   "execution_count": 8,
   "id": "b0d6f7ed-bea8-49ed-a4d1-c8604955e393",
   "metadata": {},
   "outputs": [
    {
     "name": "stdout",
     "output_type": "stream",
     "text": [
      "X deduplicate shape:  (239881, 20, 12)\n",
      "y deuplicate shape:   (239881,)\n"
     ]
    },
    {
     "data": {
      "text/plain": [
       "0"
      ]
     },
     "execution_count": 8,
     "metadata": {},
     "output_type": "execute_result"
    }
   ],
   "source": [
    "X_seq_flat = X_seq.reshape(X_seq.shape[0], -1)\n",
    "_, unique_idx = np.unique(X_seq_flat, axis=0, return_index=True)\n",
    "unique_idx = np.sort(unique_idx)\n",
    "\n",
    "X_seq = X_seq[unique_idx]\n",
    "y_encoded_seq = y_encoded_seq[unique_idx]\n",
    "\n",
    "print(\"X deduplicate shape: \", X_seq.shape)\n",
    "print(\"y deuplicate shape:  \", y_encoded_seq.shape)\n",
    "\n",
    "del X_seq_flat\n",
    "gc.collect()"
   ]
  },
  {
   "cell_type": "code",
   "execution_count": 9,
   "id": "7b2ec4ba-ec19-4210-b01d-bbc116eac1ed",
   "metadata": {},
   "outputs": [
    {
     "name": "stdout",
     "output_type": "stream",
     "text": [
      "X_train: 191904\n",
      "y_train: 191904\n",
      "X_test:  47977\n",
      "y_test:  47977\n"
     ]
    },
    {
     "data": {
      "text/plain": [
       "0"
      ]
     },
     "execution_count": 9,
     "metadata": {},
     "output_type": "execute_result"
    }
   ],
   "source": [
    "X_seq_train, X_seq_test, y_seq_train, y_seq_test = sk.model_selection.train_test_split(\n",
    "    X_seq,\n",
    "    y_encoded_seq,\n",
    "    test_size=0.2,\n",
    "    random_state=42,\n",
    "    stratify=y_encoded_seq,\n",
    ")\n",
    "\n",
    "print(f\"X_train: {len(X_seq_train)}\")\n",
    "print(f\"y_train: {len(y_seq_train)}\")\n",
    "print(f\"X_test:  {len(X_seq_test)}\")\n",
    "print(f\"y_test:  {len(y_seq_test)}\")\n",
    "\n",
    "del X_seq\n",
    "del y_encoded_seq\n",
    "gc.collect()"
   ]
  },
  {
   "cell_type": "code",
   "execution_count": 10,
   "id": "57f6e917-5e8b-49c4-bb6f-97258dfa85e4",
   "metadata": {},
   "outputs": [
    {
     "name": "stdout",
     "output_type": "stream",
     "text": [
      "Total feature:  12\n",
      "Total class:    36\n"
     ]
    }
   ],
   "source": [
    "print(\"Total feature: \", X_seq_train.shape[2])\n",
    "print(\"Total class:   \", len(encoder.classes_))"
   ]
  },
  {
   "cell_type": "code",
   "execution_count": 11,
   "id": "bce6e562-b4ae-4bde-bc29-4b1f70ce3550",
   "metadata": {},
   "outputs": [],
   "source": [
    "class_weights = sk.utils.class_weight.compute_class_weight(\n",
    "    class_weight='balanced',\n",
    "    classes=np.unique(y_seq_train),\n",
    "    y=y_seq_train,\n",
    ")\n",
    "class_weight_dict = dict(enumerate(class_weights))"
   ]
  },
  {
   "cell_type": "code",
   "execution_count": 12,
   "id": "adb2f230-0a9d-455c-86f4-4fb5ac20590a",
   "metadata": {},
   "outputs": [
    {
     "name": "stderr",
     "output_type": "stream",
     "text": [
      "/usr/lib/python3.13/site-packages/keras/src/layers/rnn/rnn.py:199: UserWarning: Do not pass an `input_shape`/`input_dim` argument to a layer. When using Sequential models, prefer using an `Input(shape)` object as the first layer in the model instead.\n",
      "  super().__init__(**kwargs)\n"
     ]
    },
    {
     "data": {
      "text/html": [
       "<pre style=\"white-space:pre;overflow-x:auto;line-height:normal;font-family:Menlo,'DejaVu Sans Mono',consolas,'Courier New',monospace\"><span style=\"font-weight: bold\">Model: \"sequential\"</span>\n",
       "</pre>\n"
      ],
      "text/plain": [
       "\u001b[1mModel: \"sequential\"\u001b[0m\n"
      ]
     },
     "metadata": {},
     "output_type": "display_data"
    },
    {
     "data": {
      "text/html": [
       "<pre style=\"white-space:pre;overflow-x:auto;line-height:normal;font-family:Menlo,'DejaVu Sans Mono',consolas,'Courier New',monospace\">┏━━━━━━━━━━━━━━━━━━━━━━━━━━━━━━━━━┳━━━━━━━━━━━━━━━━━━━━━━━━┳━━━━━━━━━━━━━━━┓\n",
       "┃<span style=\"font-weight: bold\"> Layer (type)                    </span>┃<span style=\"font-weight: bold\"> Output Shape           </span>┃<span style=\"font-weight: bold\">       Param # </span>┃\n",
       "┡━━━━━━━━━━━━━━━━━━━━━━━━━━━━━━━━━╇━━━━━━━━━━━━━━━━━━━━━━━━╇━━━━━━━━━━━━━━━┩\n",
       "│ bidirectional (<span style=\"color: #0087ff; text-decoration-color: #0087ff\">Bidirectional</span>)   │ ?                      │   <span style=\"color: #00af00; text-decoration-color: #00af00\">0</span> (unbuilt) │\n",
       "├─────────────────────────────────┼────────────────────────┼───────────────┤\n",
       "│ dropout (<span style=\"color: #0087ff; text-decoration-color: #0087ff\">Dropout</span>)               │ ?                      │             <span style=\"color: #00af00; text-decoration-color: #00af00\">0</span> │\n",
       "├─────────────────────────────────┼────────────────────────┼───────────────┤\n",
       "│ bidirectional_1 (<span style=\"color: #0087ff; text-decoration-color: #0087ff\">Bidirectional</span>) │ ?                      │   <span style=\"color: #00af00; text-decoration-color: #00af00\">0</span> (unbuilt) │\n",
       "├─────────────────────────────────┼────────────────────────┼───────────────┤\n",
       "│ dropout_1 (<span style=\"color: #0087ff; text-decoration-color: #0087ff\">Dropout</span>)             │ ?                      │             <span style=\"color: #00af00; text-decoration-color: #00af00\">0</span> │\n",
       "├─────────────────────────────────┼────────────────────────┼───────────────┤\n",
       "│ dense (<span style=\"color: #0087ff; text-decoration-color: #0087ff\">Dense</span>)                   │ ?                      │   <span style=\"color: #00af00; text-decoration-color: #00af00\">0</span> (unbuilt) │\n",
       "└─────────────────────────────────┴────────────────────────┴───────────────┘\n",
       "</pre>\n"
      ],
      "text/plain": [
       "┏━━━━━━━━━━━━━━━━━━━━━━━━━━━━━━━━━┳━━━━━━━━━━━━━━━━━━━━━━━━┳━━━━━━━━━━━━━━━┓\n",
       "┃\u001b[1m \u001b[0m\u001b[1mLayer (type)                   \u001b[0m\u001b[1m \u001b[0m┃\u001b[1m \u001b[0m\u001b[1mOutput Shape          \u001b[0m\u001b[1m \u001b[0m┃\u001b[1m \u001b[0m\u001b[1m      Param #\u001b[0m\u001b[1m \u001b[0m┃\n",
       "┡━━━━━━━━━━━━━━━━━━━━━━━━━━━━━━━━━╇━━━━━━━━━━━━━━━━━━━━━━━━╇━━━━━━━━━━━━━━━┩\n",
       "│ bidirectional (\u001b[38;5;33mBidirectional\u001b[0m)   │ ?                      │   \u001b[38;5;34m0\u001b[0m (unbuilt) │\n",
       "├─────────────────────────────────┼────────────────────────┼───────────────┤\n",
       "│ dropout (\u001b[38;5;33mDropout\u001b[0m)               │ ?                      │             \u001b[38;5;34m0\u001b[0m │\n",
       "├─────────────────────────────────┼────────────────────────┼───────────────┤\n",
       "│ bidirectional_1 (\u001b[38;5;33mBidirectional\u001b[0m) │ ?                      │   \u001b[38;5;34m0\u001b[0m (unbuilt) │\n",
       "├─────────────────────────────────┼────────────────────────┼───────────────┤\n",
       "│ dropout_1 (\u001b[38;5;33mDropout\u001b[0m)             │ ?                      │             \u001b[38;5;34m0\u001b[0m │\n",
       "├─────────────────────────────────┼────────────────────────┼───────────────┤\n",
       "│ dense (\u001b[38;5;33mDense\u001b[0m)                   │ ?                      │   \u001b[38;5;34m0\u001b[0m (unbuilt) │\n",
       "└─────────────────────────────────┴────────────────────────┴───────────────┘\n"
      ]
     },
     "metadata": {},
     "output_type": "display_data"
    },
    {
     "data": {
      "text/html": [
       "<pre style=\"white-space:pre;overflow-x:auto;line-height:normal;font-family:Menlo,'DejaVu Sans Mono',consolas,'Courier New',monospace\"><span style=\"font-weight: bold\"> Total params: </span><span style=\"color: #00af00; text-decoration-color: #00af00\">0</span> (0.00 B)\n",
       "</pre>\n"
      ],
      "text/plain": [
       "\u001b[1m Total params: \u001b[0m\u001b[38;5;34m0\u001b[0m (0.00 B)\n"
      ]
     },
     "metadata": {},
     "output_type": "display_data"
    },
    {
     "data": {
      "text/html": [
       "<pre style=\"white-space:pre;overflow-x:auto;line-height:normal;font-family:Menlo,'DejaVu Sans Mono',consolas,'Courier New',monospace\"><span style=\"font-weight: bold\"> Trainable params: </span><span style=\"color: #00af00; text-decoration-color: #00af00\">0</span> (0.00 B)\n",
       "</pre>\n"
      ],
      "text/plain": [
       "\u001b[1m Trainable params: \u001b[0m\u001b[38;5;34m0\u001b[0m (0.00 B)\n"
      ]
     },
     "metadata": {},
     "output_type": "display_data"
    },
    {
     "data": {
      "text/html": [
       "<pre style=\"white-space:pre;overflow-x:auto;line-height:normal;font-family:Menlo,'DejaVu Sans Mono',consolas,'Courier New',monospace\"><span style=\"font-weight: bold\"> Non-trainable params: </span><span style=\"color: #00af00; text-decoration-color: #00af00\">0</span> (0.00 B)\n",
       "</pre>\n"
      ],
      "text/plain": [
       "\u001b[1m Non-trainable params: \u001b[0m\u001b[38;5;34m0\u001b[0m (0.00 B)\n"
      ]
     },
     "metadata": {},
     "output_type": "display_data"
    }
   ],
   "source": [
    "model_lstm = tf.keras.Sequential([\n",
    "    tf.keras.layers.Bidirectional(tf.keras.layers.LSTM(64, return_sequences=True, input_shape=(SEQUENCE_LEN, X_seq_train.shape[2]))),\n",
    "    tf.keras.layers.Dropout(0.25),\n",
    "        \n",
    "    tf.keras.layers.Bidirectional(tf.keras.layers.LSTM(64, return_sequences=False)),\n",
    "    tf.keras.layers.Dropout(0.25),\n",
    "\n",
    "    tf.keras.layers.Dense(len(encoder.classes_), activation='softmax'),\n",
    "])\n",
    "\n",
    "model_lstm.compile(\n",
    "    optimizer=\"adam\",\n",
    "    loss=\"sparse_categorical_crossentropy\",\n",
    "    metrics=[\"accuracy\"],\n",
    ")\n",
    "\n",
    "model_lstm.summary()"
   ]
  },
  {
   "cell_type": "code",
   "execution_count": null,
   "id": "d1ea8eb2-821b-4250-a9eb-60978b0f563a",
   "metadata": {},
   "outputs": [
    {
     "name": "stdout",
     "output_type": "stream",
     "text": [
      "Epoch 1/500\n",
      "\u001b[1m4798/4798\u001b[0m \u001b[32m━━━━━━━━━━━━━━━━━━━━\u001b[0m\u001b[37m\u001b[0m \u001b[1m62s\u001b[0m 12ms/step - accuracy: 0.3224 - loss: 2.3488 - val_accuracy: 0.5043 - val_loss: 1.6895\n",
      "Epoch 2/500\n",
      "\u001b[1m4256/4798\u001b[0m \u001b[32m━━━━━━━━━━━━━━━━━\u001b[0m\u001b[37m━━━\u001b[0m \u001b[1m6s\u001b[0m 12ms/step - accuracy: 0.5081 - loss: 1.6268"
     ]
    }
   ],
   "source": [
    "early_stopping = tf.keras.callbacks.EarlyStopping(\n",
    "    patience=10,\n",
    "    restore_best_weights=True,\n",
    ")\n",
    "\n",
    "history = model_lstm.fit(\n",
    "    X_seq_train,\n",
    "    y_seq_train,\n",
    "    epochs=500,\n",
    "    batch_size=32,\n",
    "    validation_split=0.2,\n",
    "    verbose=1,\n",
    "    callbacks=[early_stopping],\n",
    "    class_weight=class_weight_dict,\n",
    ")"
   ]
  },
  {
   "cell_type": "code",
   "execution_count": null,
   "id": "bbe57051-ac8b-497a-b8ef-96279b0662be",
   "metadata": {},
   "outputs": [],
   "source": [
    "model_lstm.evaluate(X_seq_test, y_seq_test)\n",
    "y_pred = np.argmax(model_lstm.predict(X_seq_test), axis=1)\n",
    "print(\n",
    "  sk.metrics.classification_report(y_seq_test, y_pred, target_names=encoder.classes_)\n",
    ")"
   ]
  },
  {
   "cell_type": "code",
   "execution_count": null,
   "id": "5ea20c89-c560-42a6-9a76-b8114534bc03",
   "metadata": {},
   "outputs": [],
   "source": [
    "model_lstm.save(\"model_lstm.keras\")\n",
    "pd.DataFrame(history.history).to_csv(\"history.csv\", index=False)"
   ]
  },
  {
   "cell_type": "code",
   "execution_count": null,
   "id": "64a8f23f-b93b-44c3-aeb9-e3d1debe044d",
   "metadata": {},
   "outputs": [],
   "source": []
  }
 ],
 "metadata": {
  "kernelspec": {
   "display_name": "thesis_venv",
   "language": "python",
   "name": "thesis_venv"
  },
  "language_info": {
   "codemirror_mode": {
    "name": "ipython",
    "version": 3
   },
   "file_extension": ".py",
   "mimetype": "text/x-python",
   "name": "python",
   "nbconvert_exporter": "python",
   "pygments_lexer": "ipython3",
   "version": "3.13.5"
  }
 },
 "nbformat": 4,
 "nbformat_minor": 5
}
