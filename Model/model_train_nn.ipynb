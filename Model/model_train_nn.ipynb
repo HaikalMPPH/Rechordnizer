{
 "cells": [
  {
   "cell_type": "code",
   "execution_count": 1,
   "id": "a86b41fd-04c1-483c-b2fc-56926d6c3707",
   "metadata": {},
   "outputs": [
    {
     "name": "stderr",
     "output_type": "stream",
     "text": [
      "2025-07-03 14:45:40.548649: I tensorflow/core/platform/cpu_feature_guard.cc:210] This TensorFlow binary is optimized to use available CPU instructions in performance-critical operations.\n",
      "To enable the following instructions: SSE3 SSE4.1 SSE4.2 AVX AVX2 FMA, in other operations, rebuild TensorFlow with the appropriate compiler flags.\n"
     ]
    },
    {
     "ename": "AttributeError",
     "evalue": "'MessageFactory' object has no attribute 'GetPrototype'",
     "output_type": "error",
     "traceback": [
      "\u001b[31m---------------------------------------------------------------------------\u001b[39m",
      "\u001b[31mAttributeError\u001b[39m                            Traceback (most recent call last)",
      "\u001b[31mAttributeError\u001b[39m: 'MessageFactory' object has no attribute 'GetPrototype'"
     ]
    },
    {
     "ename": "AttributeError",
     "evalue": "'MessageFactory' object has no attribute 'GetPrototype'",
     "output_type": "error",
     "traceback": [
      "\u001b[31m---------------------------------------------------------------------------\u001b[39m",
      "\u001b[31mAttributeError\u001b[39m                            Traceback (most recent call last)",
      "\u001b[31mAttributeError\u001b[39m: 'MessageFactory' object has no attribute 'GetPrototype'"
     ]
    },
    {
     "ename": "AttributeError",
     "evalue": "'MessageFactory' object has no attribute 'GetPrototype'",
     "output_type": "error",
     "traceback": [
      "\u001b[31m---------------------------------------------------------------------------\u001b[39m",
      "\u001b[31mAttributeError\u001b[39m                            Traceback (most recent call last)",
      "\u001b[31mAttributeError\u001b[39m: 'MessageFactory' object has no attribute 'GetPrototype'"
     ]
    },
    {
     "ename": "AttributeError",
     "evalue": "'MessageFactory' object has no attribute 'GetPrototype'",
     "output_type": "error",
     "traceback": [
      "\u001b[31m---------------------------------------------------------------------------\u001b[39m",
      "\u001b[31mAttributeError\u001b[39m                            Traceback (most recent call last)",
      "\u001b[31mAttributeError\u001b[39m: 'MessageFactory' object has no attribute 'GetPrototype'"
     ]
    },
    {
     "ename": "AttributeError",
     "evalue": "'MessageFactory' object has no attribute 'GetPrototype'",
     "output_type": "error",
     "traceback": [
      "\u001b[31m---------------------------------------------------------------------------\u001b[39m",
      "\u001b[31mAttributeError\u001b[39m                            Traceback (most recent call last)",
      "\u001b[31mAttributeError\u001b[39m: 'MessageFactory' object has no attribute 'GetPrototype'"
     ]
    }
   ],
   "source": [
    "import tensorflow as tf\n",
    "import numpy as np\n",
    "import pandas as pd\n",
    "import sklearn as sk\n",
    "import joblib\n",
    "import random\n",
    "import gc"
   ]
  },
  {
   "cell_type": "code",
   "execution_count": 2,
   "id": "bd50646b-5ad4-4ade-93b2-0b42201c6398",
   "metadata": {},
   "outputs": [
    {
     "name": "stdout",
     "output_type": "stream",
     "text": [
      "Num GPUs Available: 0\n"
     ]
    }
   ],
   "source": [
    "print(\"Num GPUs Available:\", len(tf.config.list_physical_devices('GPU')))"
   ]
  },
  {
   "cell_type": "code",
   "execution_count": 3,
   "id": "a9bdfa92-78f8-4b7c-b19e-8d2b81782799",
   "metadata": {},
   "outputs": [
    {
     "data": {
      "text/html": [
       "<div>\n",
       "<style scoped>\n",
       "    .dataframe tbody tr th:only-of-type {\n",
       "        vertical-align: middle;\n",
       "    }\n",
       "\n",
       "    .dataframe tbody tr th {\n",
       "        vertical-align: top;\n",
       "    }\n",
       "\n",
       "    .dataframe thead th {\n",
       "        text-align: right;\n",
       "    }\n",
       "</style>\n",
       "<table border=\"1\" class=\"dataframe\">\n",
       "  <thead>\n",
       "    <tr style=\"text-align: right;\">\n",
       "      <th></th>\n",
       "      <th>Cens_C</th>\n",
       "      <th>Cens_Db</th>\n",
       "      <th>Cens_D</th>\n",
       "      <th>Cens_Eb</th>\n",
       "      <th>Cens_E</th>\n",
       "      <th>Cens_F</th>\n",
       "      <th>Cens_Gb</th>\n",
       "      <th>Cens_G</th>\n",
       "      <th>Cens_Ab</th>\n",
       "      <th>Cens_A</th>\n",
       "      <th>Cens_Bb</th>\n",
       "      <th>Cens_B</th>\n",
       "      <th>chord</th>\n",
       "    </tr>\n",
       "  </thead>\n",
       "  <tbody>\n",
       "    <tr>\n",
       "      <th>0</th>\n",
       "      <td>0.452348</td>\n",
       "      <td>0.229748</td>\n",
       "      <td>0.361109</td>\n",
       "      <td>0.384247</td>\n",
       "      <td>0.289957</td>\n",
       "      <td>0.505736</td>\n",
       "      <td>0.160134</td>\n",
       "      <td>0.192324</td>\n",
       "      <td>0.237007</td>\n",
       "      <td>0.020101</td>\n",
       "      <td>0.073743</td>\n",
       "      <td>0.007858</td>\n",
       "      <td>FMin7</td>\n",
       "    </tr>\n",
       "    <tr>\n",
       "      <th>1</th>\n",
       "      <td>0.453124</td>\n",
       "      <td>0.230152</td>\n",
       "      <td>0.356336</td>\n",
       "      <td>0.383752</td>\n",
       "      <td>0.279558</td>\n",
       "      <td>0.509347</td>\n",
       "      <td>0.157981</td>\n",
       "      <td>0.191034</td>\n",
       "      <td>0.246102</td>\n",
       "      <td>0.018734</td>\n",
       "      <td>0.086234</td>\n",
       "      <td>0.008667</td>\n",
       "      <td>FMin7</td>\n",
       "    </tr>\n",
       "    <tr>\n",
       "      <th>2</th>\n",
       "      <td>0.452593</td>\n",
       "      <td>0.231150</td>\n",
       "      <td>0.351795</td>\n",
       "      <td>0.383554</td>\n",
       "      <td>0.269870</td>\n",
       "      <td>0.512432</td>\n",
       "      <td>0.156105</td>\n",
       "      <td>0.190244</td>\n",
       "      <td>0.254603</td>\n",
       "      <td>0.017387</td>\n",
       "      <td>0.098308</td>\n",
       "      <td>0.009395</td>\n",
       "      <td>FMin7</td>\n",
       "    </tr>\n",
       "    <tr>\n",
       "      <th>3</th>\n",
       "      <td>0.450910</td>\n",
       "      <td>0.232791</td>\n",
       "      <td>0.347583</td>\n",
       "      <td>0.383560</td>\n",
       "      <td>0.260952</td>\n",
       "      <td>0.514989</td>\n",
       "      <td>0.154537</td>\n",
       "      <td>0.189900</td>\n",
       "      <td>0.262471</td>\n",
       "      <td>0.016060</td>\n",
       "      <td>0.109787</td>\n",
       "      <td>0.010040</td>\n",
       "      <td>FMin7</td>\n",
       "    </tr>\n",
       "    <tr>\n",
       "      <th>4</th>\n",
       "      <td>0.448296</td>\n",
       "      <td>0.235113</td>\n",
       "      <td>0.343783</td>\n",
       "      <td>0.383615</td>\n",
       "      <td>0.252767</td>\n",
       "      <td>0.517028</td>\n",
       "      <td>0.153299</td>\n",
       "      <td>0.189957</td>\n",
       "      <td>0.269682</td>\n",
       "      <td>0.014843</td>\n",
       "      <td>0.120621</td>\n",
       "      <td>0.010685</td>\n",
       "      <td>FMin7</td>\n",
       "    </tr>\n",
       "    <tr>\n",
       "      <th>...</th>\n",
       "      <td>...</td>\n",
       "      <td>...</td>\n",
       "      <td>...</td>\n",
       "      <td>...</td>\n",
       "      <td>...</td>\n",
       "      <td>...</td>\n",
       "      <td>...</td>\n",
       "      <td>...</td>\n",
       "      <td>...</td>\n",
       "      <td>...</td>\n",
       "      <td>...</td>\n",
       "      <td>...</td>\n",
       "      <td>...</td>\n",
       "    </tr>\n",
       "    <tr>\n",
       "      <th>1193</th>\n",
       "      <td>0.468113</td>\n",
       "      <td>0.251520</td>\n",
       "      <td>0.445619</td>\n",
       "      <td>0.172908</td>\n",
       "      <td>0.268400</td>\n",
       "      <td>0.162083</td>\n",
       "      <td>0.330289</td>\n",
       "      <td>0.069028</td>\n",
       "      <td>0.260254</td>\n",
       "      <td>0.335813</td>\n",
       "      <td>0.023730</td>\n",
       "      <td>0.309683</td>\n",
       "      <td>D7</td>\n",
       "    </tr>\n",
       "    <tr>\n",
       "      <th>1194</th>\n",
       "      <td>0.455816</td>\n",
       "      <td>0.267095</td>\n",
       "      <td>0.427637</td>\n",
       "      <td>0.185984</td>\n",
       "      <td>0.272747</td>\n",
       "      <td>0.171784</td>\n",
       "      <td>0.333622</td>\n",
       "      <td>0.071528</td>\n",
       "      <td>0.293414</td>\n",
       "      <td>0.321448</td>\n",
       "      <td>0.024044</td>\n",
       "      <td>0.305137</td>\n",
       "      <td>D7</td>\n",
       "    </tr>\n",
       "    <tr>\n",
       "      <th>1195</th>\n",
       "      <td>0.440661</td>\n",
       "      <td>0.282623</td>\n",
       "      <td>0.407051</td>\n",
       "      <td>0.199023</td>\n",
       "      <td>0.276647</td>\n",
       "      <td>0.181347</td>\n",
       "      <td>0.336395</td>\n",
       "      <td>0.074615</td>\n",
       "      <td>0.328778</td>\n",
       "      <td>0.305893</td>\n",
       "      <td>0.024366</td>\n",
       "      <td>0.300389</td>\n",
       "      <td>D7</td>\n",
       "    </tr>\n",
       "    <tr>\n",
       "      <th>1196</th>\n",
       "      <td>0.422635</td>\n",
       "      <td>0.297590</td>\n",
       "      <td>0.384021</td>\n",
       "      <td>0.211749</td>\n",
       "      <td>0.279753</td>\n",
       "      <td>0.190376</td>\n",
       "      <td>0.338419</td>\n",
       "      <td>0.078126</td>\n",
       "      <td>0.365778</td>\n",
       "      <td>0.289019</td>\n",
       "      <td>0.024682</td>\n",
       "      <td>0.295702</td>\n",
       "      <td>D7</td>\n",
       "    </tr>\n",
       "    <tr>\n",
       "      <th>1197</th>\n",
       "      <td>0.401934</td>\n",
       "      <td>0.311681</td>\n",
       "      <td>0.358836</td>\n",
       "      <td>0.223944</td>\n",
       "      <td>0.281803</td>\n",
       "      <td>0.198466</td>\n",
       "      <td>0.339452</td>\n",
       "      <td>0.081948</td>\n",
       "      <td>0.403562</td>\n",
       "      <td>0.270842</td>\n",
       "      <td>0.024975</td>\n",
       "      <td>0.291211</td>\n",
       "      <td>D7</td>\n",
       "    </tr>\n",
       "  </tbody>\n",
       "</table>\n",
       "<p>239900 rows × 13 columns</p>\n",
       "</div>"
      ],
      "text/plain": [
       "        Cens_C   Cens_Db    Cens_D   Cens_Eb    Cens_E    Cens_F   Cens_Gb  \\\n",
       "0     0.452348  0.229748  0.361109  0.384247  0.289957  0.505736  0.160134   \n",
       "1     0.453124  0.230152  0.356336  0.383752  0.279558  0.509347  0.157981   \n",
       "2     0.452593  0.231150  0.351795  0.383554  0.269870  0.512432  0.156105   \n",
       "3     0.450910  0.232791  0.347583  0.383560  0.260952  0.514989  0.154537   \n",
       "4     0.448296  0.235113  0.343783  0.383615  0.252767  0.517028  0.153299   \n",
       "...        ...       ...       ...       ...       ...       ...       ...   \n",
       "1193  0.468113  0.251520  0.445619  0.172908  0.268400  0.162083  0.330289   \n",
       "1194  0.455816  0.267095  0.427637  0.185984  0.272747  0.171784  0.333622   \n",
       "1195  0.440661  0.282623  0.407051  0.199023  0.276647  0.181347  0.336395   \n",
       "1196  0.422635  0.297590  0.384021  0.211749  0.279753  0.190376  0.338419   \n",
       "1197  0.401934  0.311681  0.358836  0.223944  0.281803  0.198466  0.339452   \n",
       "\n",
       "        Cens_G   Cens_Ab    Cens_A   Cens_Bb    Cens_B  chord  \n",
       "0     0.192324  0.237007  0.020101  0.073743  0.007858  FMin7  \n",
       "1     0.191034  0.246102  0.018734  0.086234  0.008667  FMin7  \n",
       "2     0.190244  0.254603  0.017387  0.098308  0.009395  FMin7  \n",
       "3     0.189900  0.262471  0.016060  0.109787  0.010040  FMin7  \n",
       "4     0.189957  0.269682  0.014843  0.120621  0.010685  FMin7  \n",
       "...        ...       ...       ...       ...       ...    ...  \n",
       "1193  0.069028  0.260254  0.335813  0.023730  0.309683     D7  \n",
       "1194  0.071528  0.293414  0.321448  0.024044  0.305137     D7  \n",
       "1195  0.074615  0.328778  0.305893  0.024366  0.300389     D7  \n",
       "1196  0.078126  0.365778  0.289019  0.024682  0.295702     D7  \n",
       "1197  0.081948  0.403562  0.270842  0.024975  0.291211     D7  \n",
       "\n",
       "[239900 rows x 13 columns]"
      ]
     },
     "execution_count": 3,
     "metadata": {},
     "output_type": "execute_result"
    }
   ],
   "source": [
    "df = pd.read_hdf(\"./dataset.h5\", key=\"df\")\n",
    "df"
   ]
  },
  {
   "cell_type": "code",
   "execution_count": 4,
   "id": "155fb292-42c6-4743-bf2d-4325516940ff",
   "metadata": {},
   "outputs": [
    {
     "name": "stdout",
     "output_type": "stream",
     "text": [
      "Chords\n",
      "chord\n",
      "CMin7     11630\n",
      "AbMin7    11611\n",
      "GbMin7    11600\n",
      "DbMin7    11514\n",
      "FMin7     11264\n",
      "EMin7     11163\n",
      "AMin7     11118\n",
      "DMin7     11039\n",
      "BbMin7    11026\n",
      "EbMin7    10884\n",
      "GMin7     10876\n",
      "BMin7     10825\n",
      "AMaj7      6860\n",
      "EMaj7      6518\n",
      "GbMaj7     6493\n",
      "CMaj7      6406\n",
      "AbMaj7     6379\n",
      "FMaj7      6278\n",
      "BbMaj7     6270\n",
      "GMaj7      6249\n",
      "DbMaj7     6240\n",
      "DMaj7      6212\n",
      "EbMaj7     6185\n",
      "BMaj7      6135\n",
      "G7         2692\n",
      "B7         2536\n",
      "Db7        2428\n",
      "Bb7        2427\n",
      "Ab7        2426\n",
      "C7         2400\n",
      "D7         2399\n",
      "Eb7        2389\n",
      "A7         2384\n",
      "Gb7        2359\n",
      "E7         2345\n",
      "F7         2340\n",
      "Name: count, dtype: int64\n"
     ]
    }
   ],
   "source": [
    "print(\"Chords\")\n",
    "print(df[\"chord\"].value_counts())"
   ]
  },
  {
   "cell_type": "code",
   "execution_count": 5,
   "id": "f22910a2-a2b3-4672-8409-0d9335166d63",
   "metadata": {},
   "outputs": [
    {
     "data": {
      "text/plain": [
       "['./encoder.xz']"
      ]
     },
     "execution_count": 5,
     "metadata": {},
     "output_type": "execute_result"
    }
   ],
   "source": [
    "y = df[\"chord\"]\n",
    "X = df.drop(columns=\"chord\")\n",
    "encoder = sk.preprocessing.LabelEncoder()\n",
    "y_encoded = encoder.fit_transform(y)\n",
    "\n",
    "joblib.dump(encoder, \"./encoder.xz\")"
   ]
  },
  {
   "cell_type": "code",
   "execution_count": 6,
   "id": "01f9d408-e165-4e68-941f-ccdcd4c36b1d",
   "metadata": {},
   "outputs": [
    {
     "data": {
      "text/plain": [
       "20"
      ]
     },
     "execution_count": 6,
     "metadata": {},
     "output_type": "execute_result"
    }
   ],
   "source": [
    "del df\n",
    "gc.collect()"
   ]
  },
  {
   "cell_type": "markdown",
   "id": "1bb64354-b100-49f1-bce9-dc17f43e08b2",
   "metadata": {},
   "source": [
    "# LSTM"
   ]
  },
  {
   "cell_type": "code",
   "execution_count": 7,
   "id": "a22ecbda-f306-4fea-9746-7d4ca17726fd",
   "metadata": {},
   "outputs": [
    {
     "name": "stdout",
     "output_type": "stream",
     "text": [
      "X sequence shape:  (239861, 40, 12)\n",
      "y sequence shape:  (239861,)\n"
     ]
    },
    {
     "data": {
      "text/plain": [
       "0"
      ]
     },
     "execution_count": 7,
     "metadata": {},
     "output_type": "execute_result"
    }
   ],
   "source": [
    "SEQUENCE_LEN = 40 # 0.1 * 20.0 = 2 sec of sequence data\n",
    "\n",
    "X_seq, y_encoded_seq = None, None\n",
    "X_seq_list = []\n",
    "y_encoded_seq_list = []\n",
    "for i in range(len(X) - SEQUENCE_LEN + 1):\n",
    "    X_seq_list.append(X.values[i : i + SEQUENCE_LEN, :])\n",
    "    y_encoded_seq_list.append(y_encoded[i + SEQUENCE_LEN - 1])\n",
    "\n",
    "X_seq, y_encoded_seq = np.array(X_seq_list), np.array(y_encoded_seq_list)\n",
    "\n",
    "print(\"X sequence shape: \", X_seq.shape)\n",
    "print(\"y sequence shape: \", y_encoded_seq.shape)\n",
    "\n",
    "del X_seq_list\n",
    "del y_encoded_seq_list\n",
    "gc.collect()"
   ]
  },
  {
   "cell_type": "code",
   "execution_count": 8,
   "id": "b0d6f7ed-bea8-49ed-a4d1-c8604955e393",
   "metadata": {},
   "outputs": [
    {
     "name": "stdout",
     "output_type": "stream",
     "text": [
      "X deduplicate shape:  (239861, 40, 12)\n",
      "y deuplicate shape:   (239861,)\n"
     ]
    },
    {
     "data": {
      "text/plain": [
       "0"
      ]
     },
     "execution_count": 8,
     "metadata": {},
     "output_type": "execute_result"
    }
   ],
   "source": [
    "X_seq_flat = X_seq.reshape(X_seq.shape[0], -1)\n",
    "_, unique_idx = np.unique(X_seq_flat, axis=0, return_index=True)\n",
    "unique_idx = np.sort(unique_idx)\n",
    "\n",
    "X_seq = X_seq[unique_idx]\n",
    "y_encoded_seq = y_encoded_seq[unique_idx]\n",
    "\n",
    "print(\"X deduplicate shape: \", X_seq.shape)\n",
    "print(\"y deuplicate shape:  \", y_encoded_seq.shape)\n",
    "\n",
    "del X_seq_flat\n",
    "gc.collect()"
   ]
  },
  {
   "cell_type": "code",
   "execution_count": 9,
   "id": "7b2ec4ba-ec19-4210-b01d-bbc116eac1ed",
   "metadata": {},
   "outputs": [
    {
     "name": "stdout",
     "output_type": "stream",
     "text": [
      "X_train: 191888\n",
      "y_train: 191888\n",
      "X_test:  47973\n",
      "y_test:  47973\n"
     ]
    },
    {
     "data": {
      "text/plain": [
       "0"
      ]
     },
     "execution_count": 9,
     "metadata": {},
     "output_type": "execute_result"
    }
   ],
   "source": [
    "X_seq_train, X_seq_test, y_seq_train, y_seq_test = sk.model_selection.train_test_split(\n",
    "    X_seq,\n",
    "    y_encoded_seq,\n",
    "    test_size=0.2,\n",
    "    random_state=42,\n",
    "    stratify=y_encoded_seq,\n",
    ")\n",
    "\n",
    "print(f\"X_train: {len(X_seq_train)}\")\n",
    "print(f\"y_train: {len(y_seq_train)}\")\n",
    "print(f\"X_test:  {len(X_seq_test)}\")\n",
    "print(f\"y_test:  {len(y_seq_test)}\")\n",
    "\n",
    "del X_seq\n",
    "del y_encoded_seq\n",
    "gc.collect()"
   ]
  },
  {
   "cell_type": "code",
   "execution_count": 10,
   "id": "57f6e917-5e8b-49c4-bb6f-97258dfa85e4",
   "metadata": {},
   "outputs": [
    {
     "name": "stdout",
     "output_type": "stream",
     "text": [
      "Total feature:  12\n",
      "Total class:    36\n"
     ]
    }
   ],
   "source": [
    "print(\"Total feature: \", X_seq_train.shape[2])\n",
    "print(\"Total class:   \", len(encoder.classes_))"
   ]
  },
  {
   "cell_type": "code",
   "execution_count": 11,
   "id": "bce6e562-b4ae-4bde-bc29-4b1f70ce3550",
   "metadata": {},
   "outputs": [],
   "source": [
    "class_weights = sk.utils.class_weight.compute_class_weight(\n",
    "    class_weight='balanced',\n",
    "    classes=np.unique(y_seq_train),\n",
    "    y=y_seq_train,\n",
    ")\n",
    "class_weight_dict = dict(enumerate(class_weights))"
   ]
  },
  {
   "cell_type": "code",
   "execution_count": 12,
   "id": "adb2f230-0a9d-455c-86f4-4fb5ac20590a",
   "metadata": {},
   "outputs": [
    {
     "name": "stderr",
     "output_type": "stream",
     "text": [
      "/usr/lib/python3.13/site-packages/keras/src/layers/rnn/rnn.py:199: UserWarning: Do not pass an `input_shape`/`input_dim` argument to a layer. When using Sequential models, prefer using an `Input(shape)` object as the first layer in the model instead.\n",
      "  super().__init__(**kwargs)\n"
     ]
    },
    {
     "data": {
      "text/html": [
       "<pre style=\"white-space:pre;overflow-x:auto;line-height:normal;font-family:Menlo,'DejaVu Sans Mono',consolas,'Courier New',monospace\"><span style=\"font-weight: bold\">Model: \"sequential\"</span>\n",
       "</pre>\n"
      ],
      "text/plain": [
       "\u001b[1mModel: \"sequential\"\u001b[0m\n"
      ]
     },
     "metadata": {},
     "output_type": "display_data"
    },
    {
     "data": {
      "text/html": [
       "<pre style=\"white-space:pre;overflow-x:auto;line-height:normal;font-family:Menlo,'DejaVu Sans Mono',consolas,'Courier New',monospace\">┏━━━━━━━━━━━━━━━━━━━━━━━━━━━━━━━━━┳━━━━━━━━━━━━━━━━━━━━━━━━┳━━━━━━━━━━━━━━━┓\n",
       "┃<span style=\"font-weight: bold\"> Layer (type)                    </span>┃<span style=\"font-weight: bold\"> Output Shape           </span>┃<span style=\"font-weight: bold\">       Param # </span>┃\n",
       "┡━━━━━━━━━━━━━━━━━━━━━━━━━━━━━━━━━╇━━━━━━━━━━━━━━━━━━━━━━━━╇━━━━━━━━━━━━━━━┩\n",
       "│ bidirectional (<span style=\"color: #0087ff; text-decoration-color: #0087ff\">Bidirectional</span>)   │ ?                      │   <span style=\"color: #00af00; text-decoration-color: #00af00\">0</span> (unbuilt) │\n",
       "├─────────────────────────────────┼────────────────────────┼───────────────┤\n",
       "│ dropout (<span style=\"color: #0087ff; text-decoration-color: #0087ff\">Dropout</span>)               │ ?                      │             <span style=\"color: #00af00; text-decoration-color: #00af00\">0</span> │\n",
       "├─────────────────────────────────┼────────────────────────┼───────────────┤\n",
       "│ bidirectional_1 (<span style=\"color: #0087ff; text-decoration-color: #0087ff\">Bidirectional</span>) │ ?                      │   <span style=\"color: #00af00; text-decoration-color: #00af00\">0</span> (unbuilt) │\n",
       "├─────────────────────────────────┼────────────────────────┼───────────────┤\n",
       "│ dropout_1 (<span style=\"color: #0087ff; text-decoration-color: #0087ff\">Dropout</span>)             │ ?                      │             <span style=\"color: #00af00; text-decoration-color: #00af00\">0</span> │\n",
       "├─────────────────────────────────┼────────────────────────┼───────────────┤\n",
       "│ dense (<span style=\"color: #0087ff; text-decoration-color: #0087ff\">Dense</span>)                   │ ?                      │   <span style=\"color: #00af00; text-decoration-color: #00af00\">0</span> (unbuilt) │\n",
       "└─────────────────────────────────┴────────────────────────┴───────────────┘\n",
       "</pre>\n"
      ],
      "text/plain": [
       "┏━━━━━━━━━━━━━━━━━━━━━━━━━━━━━━━━━┳━━━━━━━━━━━━━━━━━━━━━━━━┳━━━━━━━━━━━━━━━┓\n",
       "┃\u001b[1m \u001b[0m\u001b[1mLayer (type)                   \u001b[0m\u001b[1m \u001b[0m┃\u001b[1m \u001b[0m\u001b[1mOutput Shape          \u001b[0m\u001b[1m \u001b[0m┃\u001b[1m \u001b[0m\u001b[1m      Param #\u001b[0m\u001b[1m \u001b[0m┃\n",
       "┡━━━━━━━━━━━━━━━━━━━━━━━━━━━━━━━━━╇━━━━━━━━━━━━━━━━━━━━━━━━╇━━━━━━━━━━━━━━━┩\n",
       "│ bidirectional (\u001b[38;5;33mBidirectional\u001b[0m)   │ ?                      │   \u001b[38;5;34m0\u001b[0m (unbuilt) │\n",
       "├─────────────────────────────────┼────────────────────────┼───────────────┤\n",
       "│ dropout (\u001b[38;5;33mDropout\u001b[0m)               │ ?                      │             \u001b[38;5;34m0\u001b[0m │\n",
       "├─────────────────────────────────┼────────────────────────┼───────────────┤\n",
       "│ bidirectional_1 (\u001b[38;5;33mBidirectional\u001b[0m) │ ?                      │   \u001b[38;5;34m0\u001b[0m (unbuilt) │\n",
       "├─────────────────────────────────┼────────────────────────┼───────────────┤\n",
       "│ dropout_1 (\u001b[38;5;33mDropout\u001b[0m)             │ ?                      │             \u001b[38;5;34m0\u001b[0m │\n",
       "├─────────────────────────────────┼────────────────────────┼───────────────┤\n",
       "│ dense (\u001b[38;5;33mDense\u001b[0m)                   │ ?                      │   \u001b[38;5;34m0\u001b[0m (unbuilt) │\n",
       "└─────────────────────────────────┴────────────────────────┴───────────────┘\n"
      ]
     },
     "metadata": {},
     "output_type": "display_data"
    },
    {
     "data": {
      "text/html": [
       "<pre style=\"white-space:pre;overflow-x:auto;line-height:normal;font-family:Menlo,'DejaVu Sans Mono',consolas,'Courier New',monospace\"><span style=\"font-weight: bold\"> Total params: </span><span style=\"color: #00af00; text-decoration-color: #00af00\">0</span> (0.00 B)\n",
       "</pre>\n"
      ],
      "text/plain": [
       "\u001b[1m Total params: \u001b[0m\u001b[38;5;34m0\u001b[0m (0.00 B)\n"
      ]
     },
     "metadata": {},
     "output_type": "display_data"
    },
    {
     "data": {
      "text/html": [
       "<pre style=\"white-space:pre;overflow-x:auto;line-height:normal;font-family:Menlo,'DejaVu Sans Mono',consolas,'Courier New',monospace\"><span style=\"font-weight: bold\"> Trainable params: </span><span style=\"color: #00af00; text-decoration-color: #00af00\">0</span> (0.00 B)\n",
       "</pre>\n"
      ],
      "text/plain": [
       "\u001b[1m Trainable params: \u001b[0m\u001b[38;5;34m0\u001b[0m (0.00 B)\n"
      ]
     },
     "metadata": {},
     "output_type": "display_data"
    },
    {
     "data": {
      "text/html": [
       "<pre style=\"white-space:pre;overflow-x:auto;line-height:normal;font-family:Menlo,'DejaVu Sans Mono',consolas,'Courier New',monospace\"><span style=\"font-weight: bold\"> Non-trainable params: </span><span style=\"color: #00af00; text-decoration-color: #00af00\">0</span> (0.00 B)\n",
       "</pre>\n"
      ],
      "text/plain": [
       "\u001b[1m Non-trainable params: \u001b[0m\u001b[38;5;34m0\u001b[0m (0.00 B)\n"
      ]
     },
     "metadata": {},
     "output_type": "display_data"
    }
   ],
   "source": [
    "model_lstm = tf.keras.Sequential([\n",
    "    tf.keras.layers.Bidirectional(tf.keras.layers.LSTM(64, return_sequences=True, input_shape=(SEQUENCE_LEN, X_seq_train.shape[2]))),\n",
    "    tf.keras.layers.Dropout(0.25),\n",
    "        \n",
    "    tf.keras.layers.Bidirectional(tf.keras.layers.LSTM(64, return_sequences=False)),\n",
    "    tf.keras.layers.Dropout(0.25),\n",
    "\n",
    "    tf.keras.layers.Dense(len(encoder.classes_), activation='softmax'),\n",
    "])\n",
    "\n",
    "model_lstm.compile(\n",
    "    optimizer=\"adam\",\n",
    "    loss=\"sparse_categorical_crossentropy\",\n",
    "    metrics=[\"accuracy\"],\n",
    ")\n",
    "\n",
    "model_lstm.summary()"
   ]
  },
  {
   "cell_type": "code",
   "execution_count": 13,
   "id": "d1ea8eb2-821b-4250-a9eb-60978b0f563a",
   "metadata": {},
   "outputs": [
    {
     "name": "stderr",
     "output_type": "stream",
     "text": [
      "2025-07-03 14:45:46.528527: W external/local_xla/xla/tsl/framework/cpu_allocator_impl.cc:83] Allocation of 294739200 exceeds 10% of free system memory.\n"
     ]
    },
    {
     "name": "stdout",
     "output_type": "stream",
     "text": [
      "Epoch 1/500\n",
      "\u001b[1m4798/4798\u001b[0m \u001b[32m━━━━━━━━━━━━━━━━━━━━\u001b[0m\u001b[37m\u001b[0m \u001b[1m119s\u001b[0m 24ms/step - accuracy: 0.4327 - loss: 2.0500 - val_accuracy: 0.6681 - val_loss: 1.1665\n",
      "Epoch 2/500\n",
      "\u001b[1m4798/4798\u001b[0m \u001b[32m━━━━━━━━━━━━━━━━━━━━\u001b[0m\u001b[37m\u001b[0m \u001b[1m126s\u001b[0m 26ms/step - accuracy: 0.6613 - loss: 1.1115 - val_accuracy: 0.7333 - val_loss: 0.9373\n",
      "Epoch 3/500\n",
      "\u001b[1m4798/4798\u001b[0m \u001b[32m━━━━━━━━━━━━━━━━━━━━\u001b[0m\u001b[37m\u001b[0m \u001b[1m130s\u001b[0m 27ms/step - accuracy: 0.7166 - loss: 0.8843 - val_accuracy: 0.7636 - val_loss: 0.8097\n",
      "Epoch 4/500\n",
      "\u001b[1m4798/4798\u001b[0m \u001b[32m━━━━━━━━━━━━━━━━━━━━\u001b[0m\u001b[37m\u001b[0m \u001b[1m128s\u001b[0m 27ms/step - accuracy: 0.7505 - loss: 0.7636 - val_accuracy: 0.8001 - val_loss: 0.6785\n",
      "Epoch 5/500\n",
      "\u001b[1m4798/4798\u001b[0m \u001b[32m━━━━━━━━━━━━━━━━━━━━\u001b[0m\u001b[37m\u001b[0m \u001b[1m128s\u001b[0m 27ms/step - accuracy: 0.7890 - loss: 0.6250 - val_accuracy: 0.8309 - val_loss: 0.5738\n",
      "Epoch 6/500\n",
      "\u001b[1m4798/4798\u001b[0m \u001b[32m━━━━━━━━━━━━━━━━━━━━\u001b[0m\u001b[37m\u001b[0m \u001b[1m129s\u001b[0m 27ms/step - accuracy: 0.8109 - loss: 0.5370 - val_accuracy: 0.8408 - val_loss: 0.5262\n",
      "Epoch 7/500\n",
      "\u001b[1m4798/4798\u001b[0m \u001b[32m━━━━━━━━━━━━━━━━━━━━\u001b[0m\u001b[37m\u001b[0m \u001b[1m131s\u001b[0m 27ms/step - accuracy: 0.8294 - loss: 0.4809 - val_accuracy: 0.8547 - val_loss: 0.4826\n",
      "Epoch 8/500\n",
      "\u001b[1m4798/4798\u001b[0m \u001b[32m━━━━━━━━━━━━━━━━━━━━\u001b[0m\u001b[37m\u001b[0m \u001b[1m134s\u001b[0m 28ms/step - accuracy: 0.8430 - loss: 0.4356 - val_accuracy: 0.8679 - val_loss: 0.4352\n",
      "Epoch 9/500\n",
      "\u001b[1m4798/4798\u001b[0m \u001b[32m━━━━━━━━━━━━━━━━━━━━\u001b[0m\u001b[37m\u001b[0m \u001b[1m133s\u001b[0m 28ms/step - accuracy: 0.8535 - loss: 0.4016 - val_accuracy: 0.8710 - val_loss: 0.4262\n",
      "Epoch 10/500\n",
      "\u001b[1m4798/4798\u001b[0m \u001b[32m━━━━━━━━━━━━━━━━━━━━\u001b[0m\u001b[37m\u001b[0m \u001b[1m133s\u001b[0m 28ms/step - accuracy: 0.8623 - loss: 0.3746 - val_accuracy: 0.8900 - val_loss: 0.3638\n",
      "Epoch 11/500\n",
      "\u001b[1m4798/4798\u001b[0m \u001b[32m━━━━━━━━━━━━━━━━━━━━\u001b[0m\u001b[37m\u001b[0m \u001b[1m134s\u001b[0m 28ms/step - accuracy: 0.8703 - loss: 0.3501 - val_accuracy: 0.8941 - val_loss: 0.3407\n",
      "Epoch 12/500\n",
      "\u001b[1m4798/4798\u001b[0m \u001b[32m━━━━━━━━━━━━━━━━━━━━\u001b[0m\u001b[37m\u001b[0m \u001b[1m135s\u001b[0m 28ms/step - accuracy: 0.8789 - loss: 0.3295 - val_accuracy: 0.8972 - val_loss: 0.3324\n",
      "Epoch 13/500\n",
      "\u001b[1m4798/4798\u001b[0m \u001b[32m━━━━━━━━━━━━━━━━━━━━\u001b[0m\u001b[37m\u001b[0m \u001b[1m134s\u001b[0m 28ms/step - accuracy: 0.8853 - loss: 0.3096 - val_accuracy: 0.8985 - val_loss: 0.3323\n",
      "Epoch 14/500\n",
      "\u001b[1m4798/4798\u001b[0m \u001b[32m━━━━━━━━━━━━━━━━━━━━\u001b[0m\u001b[37m\u001b[0m \u001b[1m134s\u001b[0m 28ms/step - accuracy: 0.8889 - loss: 0.2947 - val_accuracy: 0.9004 - val_loss: 0.3205\n",
      "Epoch 15/500\n",
      "\u001b[1m4798/4798\u001b[0m \u001b[32m━━━━━━━━━━━━━━━━━━━━\u001b[0m\u001b[37m\u001b[0m \u001b[1m136s\u001b[0m 28ms/step - accuracy: 0.8925 - loss: 0.2871 - val_accuracy: 0.9093 - val_loss: 0.2943\n",
      "Epoch 16/500\n",
      "\u001b[1m4798/4798\u001b[0m \u001b[32m━━━━━━━━━━━━━━━━━━━━\u001b[0m\u001b[37m\u001b[0m \u001b[1m135s\u001b[0m 28ms/step - accuracy: 0.8984 - loss: 0.2688 - val_accuracy: 0.9126 - val_loss: 0.2788\n",
      "Epoch 17/500\n",
      "\u001b[1m4798/4798\u001b[0m \u001b[32m━━━━━━━━━━━━━━━━━━━━\u001b[0m\u001b[37m\u001b[0m \u001b[1m134s\u001b[0m 28ms/step - accuracy: 0.8999 - loss: 0.2632 - val_accuracy: 0.9166 - val_loss: 0.2698\n",
      "Epoch 18/500\n",
      "\u001b[1m4798/4798\u001b[0m \u001b[32m━━━━━━━━━━━━━━━━━━━━\u001b[0m\u001b[37m\u001b[0m \u001b[1m133s\u001b[0m 28ms/step - accuracy: 0.9070 - loss: 0.2434 - val_accuracy: 0.9163 - val_loss: 0.2674\n",
      "Epoch 19/500\n",
      "\u001b[1m4798/4798\u001b[0m \u001b[32m━━━━━━━━━━━━━━━━━━━━\u001b[0m\u001b[37m\u001b[0m \u001b[1m131s\u001b[0m 27ms/step - accuracy: 0.9058 - loss: 0.2480 - val_accuracy: 0.9216 - val_loss: 0.2541\n",
      "Epoch 20/500\n",
      "\u001b[1m4798/4798\u001b[0m \u001b[32m━━━━━━━━━━━━━━━━━━━━\u001b[0m\u001b[37m\u001b[0m \u001b[1m132s\u001b[0m 28ms/step - accuracy: 0.9105 - loss: 0.2333 - val_accuracy: 0.9121 - val_loss: 0.2921\n",
      "Epoch 21/500\n",
      "\u001b[1m4798/4798\u001b[0m \u001b[32m━━━━━━━━━━━━━━━━━━━━\u001b[0m\u001b[37m\u001b[0m \u001b[1m133s\u001b[0m 28ms/step - accuracy: 0.9121 - loss: 0.2302 - val_accuracy: 0.9203 - val_loss: 0.2518\n",
      "Epoch 22/500\n",
      "\u001b[1m4798/4798\u001b[0m \u001b[32m━━━━━━━━━━━━━━━━━━━━\u001b[0m\u001b[37m\u001b[0m \u001b[1m135s\u001b[0m 28ms/step - accuracy: 0.9159 - loss: 0.2208 - val_accuracy: 0.9216 - val_loss: 0.2532\n",
      "Epoch 23/500\n",
      "\u001b[1m4798/4798\u001b[0m \u001b[32m━━━━━━━━━━━━━━━━━━━━\u001b[0m\u001b[37m\u001b[0m \u001b[1m137s\u001b[0m 29ms/step - accuracy: 0.9163 - loss: 0.2201 - val_accuracy: 0.9241 - val_loss: 0.2425\n",
      "Epoch 24/500\n",
      "\u001b[1m4798/4798\u001b[0m \u001b[32m━━━━━━━━━━━━━━━━━━━━\u001b[0m\u001b[37m\u001b[0m \u001b[1m139s\u001b[0m 29ms/step - accuracy: 0.9181 - loss: 0.2115 - val_accuracy: 0.9241 - val_loss: 0.2435\n",
      "Epoch 25/500\n",
      "\u001b[1m4798/4798\u001b[0m \u001b[32m━━━━━━━━━━━━━━━━━━━━\u001b[0m\u001b[37m\u001b[0m \u001b[1m141s\u001b[0m 29ms/step - accuracy: 0.9205 - loss: 0.2109 - val_accuracy: 0.9259 - val_loss: 0.2384\n",
      "Epoch 26/500\n",
      "\u001b[1m4798/4798\u001b[0m \u001b[32m━━━━━━━━━━━━━━━━━━━━\u001b[0m\u001b[37m\u001b[0m \u001b[1m137s\u001b[0m 28ms/step - accuracy: 0.9222 - loss: 0.2018 - val_accuracy: 0.9266 - val_loss: 0.2369\n",
      "Epoch 27/500\n",
      "\u001b[1m4798/4798\u001b[0m \u001b[32m━━━━━━━━━━━━━━━━━━━━\u001b[0m\u001b[37m\u001b[0m \u001b[1m136s\u001b[0m 28ms/step - accuracy: 0.9242 - loss: 0.2002 - val_accuracy: 0.9265 - val_loss: 0.2354\n",
      "Epoch 28/500\n",
      "\u001b[1m4798/4798\u001b[0m \u001b[32m━━━━━━━━━━━━━━━━━━━━\u001b[0m\u001b[37m\u001b[0m \u001b[1m138s\u001b[0m 29ms/step - accuracy: 0.9259 - loss: 0.1943 - val_accuracy: 0.9291 - val_loss: 0.2280\n",
      "Epoch 29/500\n",
      "\u001b[1m4798/4798\u001b[0m \u001b[32m━━━━━━━━━━━━━━━━━━━━\u001b[0m\u001b[37m\u001b[0m \u001b[1m139s\u001b[0m 29ms/step - accuracy: 0.9272 - loss: 0.1925 - val_accuracy: 0.9279 - val_loss: 0.2280\n",
      "Epoch 30/500\n",
      "\u001b[1m4798/4798\u001b[0m \u001b[32m━━━━━━━━━━━━━━━━━━━━\u001b[0m\u001b[37m\u001b[0m \u001b[1m137s\u001b[0m 29ms/step - accuracy: 0.9278 - loss: 0.1885 - val_accuracy: 0.9279 - val_loss: 0.2357\n",
      "Epoch 31/500\n",
      "\u001b[1m4798/4798\u001b[0m \u001b[32m━━━━━━━━━━━━━━━━━━━━\u001b[0m\u001b[37m\u001b[0m \u001b[1m138s\u001b[0m 29ms/step - accuracy: 0.9273 - loss: 0.1920 - val_accuracy: 0.9299 - val_loss: 0.2266\n",
      "Epoch 32/500\n",
      "\u001b[1m4798/4798\u001b[0m \u001b[32m━━━━━━━━━━━━━━━━━━━━\u001b[0m\u001b[37m\u001b[0m \u001b[1m140s\u001b[0m 29ms/step - accuracy: 0.9290 - loss: 0.1844 - val_accuracy: 0.9318 - val_loss: 0.2185\n",
      "Epoch 33/500\n",
      "\u001b[1m4798/4798\u001b[0m \u001b[32m━━━━━━━━━━━━━━━━━━━━\u001b[0m\u001b[37m\u001b[0m \u001b[1m135s\u001b[0m 28ms/step - accuracy: 0.9304 - loss: 0.1781 - val_accuracy: 0.9316 - val_loss: 0.2177\n",
      "Epoch 34/500\n",
      "\u001b[1m4798/4798\u001b[0m \u001b[32m━━━━━━━━━━━━━━━━━━━━\u001b[0m\u001b[37m\u001b[0m \u001b[1m141s\u001b[0m 29ms/step - accuracy: 0.9306 - loss: 0.1781 - val_accuracy: 0.9313 - val_loss: 0.2236\n",
      "Epoch 35/500\n",
      "\u001b[1m4798/4798\u001b[0m \u001b[32m━━━━━━━━━━━━━━━━━━━━\u001b[0m\u001b[37m\u001b[0m \u001b[1m142s\u001b[0m 30ms/step - accuracy: 0.9327 - loss: 0.1720 - val_accuracy: 0.9300 - val_loss: 0.2229\n",
      "Epoch 36/500\n",
      "\u001b[1m4798/4798\u001b[0m \u001b[32m━━━━━━━━━━━━━━━━━━━━\u001b[0m\u001b[37m\u001b[0m \u001b[1m138s\u001b[0m 29ms/step - accuracy: 0.9329 - loss: 0.1748 - val_accuracy: 0.9336 - val_loss: 0.2132\n",
      "Epoch 37/500\n",
      "\u001b[1m4798/4798\u001b[0m \u001b[32m━━━━━━━━━━━━━━━━━━━━\u001b[0m\u001b[37m\u001b[0m \u001b[1m124s\u001b[0m 26ms/step - accuracy: 0.9339 - loss: 0.1690 - val_accuracy: 0.9349 - val_loss: 0.2088\n",
      "Epoch 38/500\n",
      "\u001b[1m4798/4798\u001b[0m \u001b[32m━━━━━━━━━━━━━━━━━━━━\u001b[0m\u001b[37m\u001b[0m \u001b[1m129s\u001b[0m 27ms/step - accuracy: 0.9362 - loss: 0.1647 - val_accuracy: 0.9332 - val_loss: 0.2133\n",
      "Epoch 39/500\n",
      "\u001b[1m4798/4798\u001b[0m \u001b[32m━━━━━━━━━━━━━━━━━━━━\u001b[0m\u001b[37m\u001b[0m \u001b[1m128s\u001b[0m 27ms/step - accuracy: 0.9353 - loss: 0.1708 - val_accuracy: 0.9363 - val_loss: 0.2060\n",
      "Epoch 40/500\n",
      "\u001b[1m4798/4798\u001b[0m \u001b[32m━━━━━━━━━━━━━━━━━━━━\u001b[0m\u001b[37m\u001b[0m \u001b[1m125s\u001b[0m 26ms/step - accuracy: 0.9359 - loss: 0.1615 - val_accuracy: 0.9344 - val_loss: 0.2063\n",
      "Epoch 41/500\n",
      "\u001b[1m4798/4798\u001b[0m \u001b[32m━━━━━━━━━━━━━━━━━━━━\u001b[0m\u001b[37m\u001b[0m \u001b[1m125s\u001b[0m 26ms/step - accuracy: 0.9362 - loss: 0.1625 - val_accuracy: 0.9382 - val_loss: 0.1987\n",
      "Epoch 42/500\n",
      "\u001b[1m4798/4798\u001b[0m \u001b[32m━━━━━━━━━━━━━━━━━━━━\u001b[0m\u001b[37m\u001b[0m \u001b[1m131s\u001b[0m 27ms/step - accuracy: 0.9382 - loss: 0.1606 - val_accuracy: 0.9340 - val_loss: 0.2093\n",
      "Epoch 43/500\n",
      "\u001b[1m4798/4798\u001b[0m \u001b[32m━━━━━━━━━━━━━━━━━━━━\u001b[0m\u001b[37m\u001b[0m \u001b[1m130s\u001b[0m 27ms/step - accuracy: 0.9380 - loss: 0.1604 - val_accuracy: 0.9350 - val_loss: 0.2101\n",
      "Epoch 44/500\n",
      "\u001b[1m4798/4798\u001b[0m \u001b[32m━━━━━━━━━━━━━━━━━━━━\u001b[0m\u001b[37m\u001b[0m \u001b[1m130s\u001b[0m 27ms/step - accuracy: 0.9399 - loss: 0.1551 - val_accuracy: 0.9362 - val_loss: 0.2029\n",
      "Epoch 45/500\n",
      "\u001b[1m4798/4798\u001b[0m \u001b[32m━━━━━━━━━━━━━━━━━━━━\u001b[0m\u001b[37m\u001b[0m \u001b[1m130s\u001b[0m 27ms/step - accuracy: 0.9400 - loss: 0.1533 - val_accuracy: 0.9349 - val_loss: 0.2137\n",
      "Epoch 46/500\n",
      "\u001b[1m4798/4798\u001b[0m \u001b[32m━━━━━━━━━━━━━━━━━━━━\u001b[0m\u001b[37m\u001b[0m \u001b[1m126s\u001b[0m 26ms/step - accuracy: 0.9394 - loss: 0.1540 - val_accuracy: 0.9354 - val_loss: 0.2066\n",
      "Epoch 47/500\n",
      "\u001b[1m4798/4798\u001b[0m \u001b[32m━━━━━━━━━━━━━━━━━━━━\u001b[0m\u001b[37m\u001b[0m \u001b[1m127s\u001b[0m 26ms/step - accuracy: 0.9412 - loss: 0.1500 - val_accuracy: 0.9363 - val_loss: 0.2036\n",
      "Epoch 48/500\n",
      "\u001b[1m4798/4798\u001b[0m \u001b[32m━━━━━━━━━━━━━━━━━━━━\u001b[0m\u001b[37m\u001b[0m \u001b[1m128s\u001b[0m 27ms/step - accuracy: 0.9413 - loss: 0.1503 - val_accuracy: 0.9404 - val_loss: 0.1957\n",
      "Epoch 49/500\n",
      "\u001b[1m4798/4798\u001b[0m \u001b[32m━━━━━━━━━━━━━━━━━━━━\u001b[0m\u001b[37m\u001b[0m \u001b[1m126s\u001b[0m 26ms/step - accuracy: 0.9414 - loss: 0.1491 - val_accuracy: 0.9398 - val_loss: 0.1918\n",
      "Epoch 50/500\n",
      "\u001b[1m4798/4798\u001b[0m \u001b[32m━━━━━━━━━━━━━━━━━━━━\u001b[0m\u001b[37m\u001b[0m \u001b[1m130s\u001b[0m 27ms/step - accuracy: 0.9432 - loss: 0.1477 - val_accuracy: 0.9389 - val_loss: 0.1945\n",
      "Epoch 51/500\n",
      "\u001b[1m4798/4798\u001b[0m \u001b[32m━━━━━━━━━━━━━━━━━━━━\u001b[0m\u001b[37m\u001b[0m \u001b[1m130s\u001b[0m 27ms/step - accuracy: 0.9437 - loss: 0.1448 - val_accuracy: 0.9378 - val_loss: 0.2007\n",
      "Epoch 52/500\n",
      "\u001b[1m4798/4798\u001b[0m \u001b[32m━━━━━━━━━━━━━━━━━━━━\u001b[0m\u001b[37m\u001b[0m \u001b[1m131s\u001b[0m 27ms/step - accuracy: 0.9439 - loss: 0.1443 - val_accuracy: 0.9399 - val_loss: 0.1936\n",
      "Epoch 53/500\n",
      "\u001b[1m4798/4798\u001b[0m \u001b[32m━━━━━━━━━━━━━━━━━━━━\u001b[0m\u001b[37m\u001b[0m \u001b[1m132s\u001b[0m 28ms/step - accuracy: 0.9448 - loss: 0.1414 - val_accuracy: 0.9396 - val_loss: 0.1912\n",
      "Epoch 54/500\n",
      "\u001b[1m4798/4798\u001b[0m \u001b[32m━━━━━━━━━━━━━━━━━━━━\u001b[0m\u001b[37m\u001b[0m \u001b[1m131s\u001b[0m 27ms/step - accuracy: 0.9454 - loss: 0.1395 - val_accuracy: 0.9391 - val_loss: 0.1932\n",
      "Epoch 55/500\n",
      "\u001b[1m4798/4798\u001b[0m \u001b[32m━━━━━━━━━━━━━━━━━━━━\u001b[0m\u001b[37m\u001b[0m \u001b[1m132s\u001b[0m 27ms/step - accuracy: 0.9472 - loss: 0.1356 - val_accuracy: 0.9391 - val_loss: 0.1961\n",
      "Epoch 56/500\n",
      "\u001b[1m4798/4798\u001b[0m \u001b[32m━━━━━━━━━━━━━━━━━━━━\u001b[0m\u001b[37m\u001b[0m \u001b[1m132s\u001b[0m 27ms/step - accuracy: 0.9469 - loss: 0.1366 - val_accuracy: 0.9412 - val_loss: 0.1873\n",
      "Epoch 57/500\n",
      "\u001b[1m4798/4798\u001b[0m \u001b[32m━━━━━━━━━━━━━━━━━━━━\u001b[0m\u001b[37m\u001b[0m \u001b[1m133s\u001b[0m 28ms/step - accuracy: 0.9459 - loss: 0.1359 - val_accuracy: 0.9400 - val_loss: 0.1954\n",
      "Epoch 58/500\n",
      "\u001b[1m4798/4798\u001b[0m \u001b[32m━━━━━━━━━━━━━━━━━━━━\u001b[0m\u001b[37m\u001b[0m \u001b[1m134s\u001b[0m 28ms/step - accuracy: 0.9469 - loss: 0.1374 - val_accuracy: 0.9406 - val_loss: 0.1897\n",
      "Epoch 59/500\n",
      "\u001b[1m4798/4798\u001b[0m \u001b[32m━━━━━━━━━━━━━━━━━━━━\u001b[0m\u001b[37m\u001b[0m \u001b[1m134s\u001b[0m 28ms/step - accuracy: 0.9450 - loss: 0.1413 - val_accuracy: 0.9435 - val_loss: 0.1825\n",
      "Epoch 60/500\n",
      "\u001b[1m4798/4798\u001b[0m \u001b[32m━━━━━━━━━━━━━━━━━━━━\u001b[0m\u001b[37m\u001b[0m \u001b[1m135s\u001b[0m 28ms/step - accuracy: 0.9462 - loss: 0.1363 - val_accuracy: 0.9406 - val_loss: 0.1929\n",
      "Epoch 61/500\n",
      "\u001b[1m4798/4798\u001b[0m \u001b[32m━━━━━━━━━━━━━━━━━━━━\u001b[0m\u001b[37m\u001b[0m \u001b[1m134s\u001b[0m 28ms/step - accuracy: 0.9496 - loss: 0.1287 - val_accuracy: 0.9438 - val_loss: 0.1838\n",
      "Epoch 62/500\n",
      "\u001b[1m4798/4798\u001b[0m \u001b[32m━━━━━━━━━━━━━━━━━━━━\u001b[0m\u001b[37m\u001b[0m \u001b[1m138s\u001b[0m 29ms/step - accuracy: 0.9482 - loss: 0.1331 - val_accuracy: 0.9422 - val_loss: 0.1873\n",
      "Epoch 63/500\n",
      "\u001b[1m4798/4798\u001b[0m \u001b[32m━━━━━━━━━━━━━━━━━━━━\u001b[0m\u001b[37m\u001b[0m \u001b[1m138s\u001b[0m 29ms/step - accuracy: 0.9481 - loss: 0.1325 - val_accuracy: 0.9408 - val_loss: 0.1956\n",
      "Epoch 64/500\n",
      "\u001b[1m4798/4798\u001b[0m \u001b[32m━━━━━━━━━━━━━━━━━━━━\u001b[0m\u001b[37m\u001b[0m \u001b[1m137s\u001b[0m 29ms/step - accuracy: 0.9496 - loss: 0.1299 - val_accuracy: 0.9419 - val_loss: 0.1848\n",
      "Epoch 65/500\n",
      "\u001b[1m4798/4798\u001b[0m \u001b[32m━━━━━━━━━━━━━━━━━━━━\u001b[0m\u001b[37m\u001b[0m \u001b[1m138s\u001b[0m 29ms/step - accuracy: 0.9484 - loss: 0.1287 - val_accuracy: 0.9416 - val_loss: 0.1851\n",
      "Epoch 66/500\n",
      "\u001b[1m4798/4798\u001b[0m \u001b[32m━━━━━━━━━━━━━━━━━━━━\u001b[0m\u001b[37m\u001b[0m \u001b[1m137s\u001b[0m 29ms/step - accuracy: 0.9497 - loss: 0.1275 - val_accuracy: 0.9399 - val_loss: 0.1934\n",
      "Epoch 67/500\n",
      "\u001b[1m4798/4798\u001b[0m \u001b[32m━━━━━━━━━━━━━━━━━━━━\u001b[0m\u001b[37m\u001b[0m \u001b[1m151s\u001b[0m 31ms/step - accuracy: 0.9483 - loss: 0.1307 - val_accuracy: 0.9413 - val_loss: 0.1929\n",
      "Epoch 68/500\n",
      "\u001b[1m4798/4798\u001b[0m \u001b[32m━━━━━━━━━━━━━━━━━━━━\u001b[0m\u001b[37m\u001b[0m \u001b[1m166s\u001b[0m 35ms/step - accuracy: 0.9517 - loss: 0.1243 - val_accuracy: 0.9432 - val_loss: 0.1874\n",
      "Epoch 69/500\n",
      "\u001b[1m4798/4798\u001b[0m \u001b[32m━━━━━━━━━━━━━━━━━━━━\u001b[0m\u001b[37m\u001b[0m \u001b[1m156s\u001b[0m 32ms/step - accuracy: 0.9513 - loss: 0.1239 - val_accuracy: 0.9438 - val_loss: 0.1819\n",
      "Epoch 70/500\n",
      "\u001b[1m4798/4798\u001b[0m \u001b[32m━━━━━━━━━━━━━━━━━━━━\u001b[0m\u001b[37m\u001b[0m \u001b[1m141s\u001b[0m 29ms/step - accuracy: 0.9513 - loss: 0.1257 - val_accuracy: 0.9435 - val_loss: 0.1815\n",
      "Epoch 71/500\n",
      "\u001b[1m4798/4798\u001b[0m \u001b[32m━━━━━━━━━━━━━━━━━━━━\u001b[0m\u001b[37m\u001b[0m \u001b[1m155s\u001b[0m 32ms/step - accuracy: 0.9518 - loss: 0.1238 - val_accuracy: 0.9430 - val_loss: 0.1877\n",
      "Epoch 72/500\n",
      "\u001b[1m4798/4798\u001b[0m \u001b[32m━━━━━━━━━━━━━━━━━━━━\u001b[0m\u001b[37m\u001b[0m \u001b[1m149s\u001b[0m 31ms/step - accuracy: 0.9508 - loss: 0.1262 - val_accuracy: 0.9421 - val_loss: 0.1851\n",
      "Epoch 73/500\n",
      "\u001b[1m4798/4798\u001b[0m \u001b[32m━━━━━━━━━━━━━━━━━━━━\u001b[0m\u001b[37m\u001b[0m \u001b[1m154s\u001b[0m 32ms/step - accuracy: 0.9514 - loss: 0.1227 - val_accuracy: 0.9432 - val_loss: 0.1848\n",
      "Epoch 74/500\n",
      "\u001b[1m4798/4798\u001b[0m \u001b[32m━━━━━━━━━━━━━━━━━━━━\u001b[0m\u001b[37m\u001b[0m \u001b[1m147s\u001b[0m 31ms/step - accuracy: 0.9512 - loss: 0.1264 - val_accuracy: 0.9437 - val_loss: 0.1816\n",
      "Epoch 75/500\n",
      "\u001b[1m4798/4798\u001b[0m \u001b[32m━━━━━━━━━━━━━━━━━━━━\u001b[0m\u001b[37m\u001b[0m \u001b[1m149s\u001b[0m 31ms/step - accuracy: 0.9527 - loss: 0.1214 - val_accuracy: 0.9427 - val_loss: 0.1889\n",
      "Epoch 76/500\n",
      "\u001b[1m4798/4798\u001b[0m \u001b[32m━━━━━━━━━━━━━━━━━━━━\u001b[0m\u001b[37m\u001b[0m \u001b[1m142s\u001b[0m 30ms/step - accuracy: 0.9523 - loss: 0.1222 - val_accuracy: 0.9429 - val_loss: 0.1846\n",
      "Epoch 77/500\n",
      "\u001b[1m4798/4798\u001b[0m \u001b[32m━━━━━━━━━━━━━━━━━━━━\u001b[0m\u001b[37m\u001b[0m \u001b[1m145s\u001b[0m 30ms/step - accuracy: 0.9535 - loss: 0.1198 - val_accuracy: 0.9444 - val_loss: 0.1845\n",
      "Epoch 78/500\n",
      "\u001b[1m4798/4798\u001b[0m \u001b[32m━━━━━━━━━━━━━━━━━━━━\u001b[0m\u001b[37m\u001b[0m \u001b[1m142s\u001b[0m 30ms/step - accuracy: 0.9519 - loss: 0.1208 - val_accuracy: 0.9456 - val_loss: 0.1762\n",
      "Epoch 79/500\n",
      "\u001b[1m4798/4798\u001b[0m \u001b[32m━━━━━━━━━━━━━━━━━━━━\u001b[0m\u001b[37m\u001b[0m \u001b[1m140s\u001b[0m 29ms/step - accuracy: 0.9526 - loss: 0.1193 - val_accuracy: 0.9452 - val_loss: 0.1762\n",
      "Epoch 80/500\n",
      "\u001b[1m4798/4798\u001b[0m \u001b[32m━━━━━━━━━━━━━━━━━━━━\u001b[0m\u001b[37m\u001b[0m \u001b[1m140s\u001b[0m 29ms/step - accuracy: 0.9527 - loss: 0.1177 - val_accuracy: 0.9427 - val_loss: 0.1883\n",
      "Epoch 81/500\n",
      "\u001b[1m4798/4798\u001b[0m \u001b[32m━━━━━━━━━━━━━━━━━━━━\u001b[0m\u001b[37m\u001b[0m \u001b[1m139s\u001b[0m 29ms/step - accuracy: 0.9528 - loss: 0.1189 - val_accuracy: 0.9437 - val_loss: 0.1823\n",
      "Epoch 82/500\n",
      "\u001b[1m4798/4798\u001b[0m \u001b[32m━━━━━━━━━━━━━━━━━━━━\u001b[0m\u001b[37m\u001b[0m \u001b[1m139s\u001b[0m 29ms/step - accuracy: 0.9533 - loss: 0.1188 - val_accuracy: 0.9430 - val_loss: 0.1870\n",
      "Epoch 83/500\n",
      "\u001b[1m4798/4798\u001b[0m \u001b[32m━━━━━━━━━━━━━━━━━━━━\u001b[0m\u001b[37m\u001b[0m \u001b[1m139s\u001b[0m 29ms/step - accuracy: 0.9535 - loss: 0.1156 - val_accuracy: 0.9459 - val_loss: 0.1752\n",
      "Epoch 84/500\n",
      "\u001b[1m4798/4798\u001b[0m \u001b[32m━━━━━━━━━━━━━━━━━━━━\u001b[0m\u001b[37m\u001b[0m \u001b[1m140s\u001b[0m 29ms/step - accuracy: 0.9549 - loss: 0.1138 - val_accuracy: 0.9436 - val_loss: 0.1848\n",
      "Epoch 85/500\n",
      "\u001b[1m4798/4798\u001b[0m \u001b[32m━━━━━━━━━━━━━━━━━━━━\u001b[0m\u001b[37m\u001b[0m \u001b[1m140s\u001b[0m 29ms/step - accuracy: 0.9548 - loss: 0.1147 - val_accuracy: 0.9462 - val_loss: 0.1756\n",
      "Epoch 86/500\n",
      "\u001b[1m4798/4798\u001b[0m \u001b[32m━━━━━━━━━━━━━━━━━━━━\u001b[0m\u001b[37m\u001b[0m \u001b[1m140s\u001b[0m 29ms/step - accuracy: 0.9539 - loss: 0.1168 - val_accuracy: 0.9438 - val_loss: 0.1813\n",
      "Epoch 87/500\n",
      "\u001b[1m4798/4798\u001b[0m \u001b[32m━━━━━━━━━━━━━━━━━━━━\u001b[0m\u001b[37m\u001b[0m \u001b[1m147s\u001b[0m 31ms/step - accuracy: 0.9549 - loss: 0.1125 - val_accuracy: 0.9442 - val_loss: 0.1819\n",
      "Epoch 88/500\n",
      "\u001b[1m4798/4798\u001b[0m \u001b[32m━━━━━━━━━━━━━━━━━━━━\u001b[0m\u001b[37m\u001b[0m \u001b[1m146s\u001b[0m 30ms/step - accuracy: 0.9543 - loss: 0.1129 - val_accuracy: 0.9426 - val_loss: 0.1919\n",
      "Epoch 89/500\n",
      "\u001b[1m4798/4798\u001b[0m \u001b[32m━━━━━━━━━━━━━━━━━━━━\u001b[0m\u001b[37m\u001b[0m \u001b[1m146s\u001b[0m 30ms/step - accuracy: 0.9558 - loss: 0.1123 - val_accuracy: 0.9450 - val_loss: 0.1800\n",
      "Epoch 90/500\n",
      "\u001b[1m4798/4798\u001b[0m \u001b[32m━━━━━━━━━━━━━━━━━━━━\u001b[0m\u001b[37m\u001b[0m \u001b[1m145s\u001b[0m 30ms/step - accuracy: 0.9560 - loss: 0.1120 - val_accuracy: 0.9446 - val_loss: 0.1784\n",
      "Epoch 91/500\n",
      "\u001b[1m4798/4798\u001b[0m \u001b[32m━━━━━━━━━━━━━━━━━━━━\u001b[0m\u001b[37m\u001b[0m \u001b[1m145s\u001b[0m 30ms/step - accuracy: 0.9563 - loss: 0.1119 - val_accuracy: 0.9441 - val_loss: 0.1875\n",
      "Epoch 92/500\n",
      "\u001b[1m4798/4798\u001b[0m \u001b[32m━━━━━━━━━━━━━━━━━━━━\u001b[0m\u001b[37m\u001b[0m \u001b[1m145s\u001b[0m 30ms/step - accuracy: 0.9560 - loss: 0.1107 - val_accuracy: 0.9456 - val_loss: 0.1760\n",
      "Epoch 93/500\n",
      "\u001b[1m4798/4798\u001b[0m \u001b[32m━━━━━━━━━━━━━━━━━━━━\u001b[0m\u001b[37m\u001b[0m \u001b[1m146s\u001b[0m 30ms/step - accuracy: 0.9562 - loss: 0.1116 - val_accuracy: 0.9456 - val_loss: 0.1787\n"
     ]
    }
   ],
   "source": [
    "early_stopping = tf.keras.callbacks.EarlyStopping(\n",
    "    patience=10,\n",
    "    restore_best_weights=True,\n",
    ")\n",
    "\n",
    "history = model_lstm.fit(\n",
    "    X_seq_train,\n",
    "    y_seq_train,\n",
    "    epochs=500,\n",
    "    batch_size=32,\n",
    "    validation_split=0.2,\n",
    "    verbose=1,\n",
    "    callbacks=[early_stopping],\n",
    "    class_weight=class_weight_dict,\n",
    ")"
   ]
  },
  {
   "cell_type": "code",
   "execution_count": 14,
   "id": "bbe57051-ac8b-497a-b8ef-96279b0662be",
   "metadata": {},
   "outputs": [
    {
     "name": "stdout",
     "output_type": "stream",
     "text": [
      "\u001b[1m1500/1500\u001b[0m \u001b[32m━━━━━━━━━━━━━━━━━━━━\u001b[0m\u001b[37m\u001b[0m \u001b[1m11s\u001b[0m 7ms/step - accuracy: 0.9465 - loss: 0.1673\n",
      "\u001b[1m1500/1500\u001b[0m \u001b[32m━━━━━━━━━━━━━━━━━━━━\u001b[0m\u001b[37m\u001b[0m \u001b[1m11s\u001b[0m 7ms/step\n",
      "              precision    recall  f1-score   support\n",
      "\n",
      "          A7       0.88      0.96      0.92       477\n",
      "       AMaj7       0.94      0.96      0.95      1372\n",
      "       AMin7       0.95      0.96      0.95      2224\n",
      "         Ab7       0.89      0.97      0.93       485\n",
      "      AbMaj7       0.96      0.95      0.95      1276\n",
      "      AbMin7       0.96      0.93      0.95      2322\n",
      "          B7       0.90      0.97      0.93       507\n",
      "       BMaj7       0.94      0.95      0.95      1227\n",
      "       BMin7       0.96      0.94      0.95      2165\n",
      "         Bb7       0.92      0.97      0.94       485\n",
      "      BbMaj7       0.94      0.96      0.95      1254\n",
      "      BbMin7       0.95      0.95      0.95      2205\n",
      "          C7       0.88      0.97      0.93       480\n",
      "       CMaj7       0.92      0.97      0.95      1281\n",
      "       CMin7       0.97      0.93      0.95      2326\n",
      "          D7       0.90      0.95      0.92       480\n",
      "       DMaj7       0.96      0.93      0.95      1242\n",
      "       DMin7       0.96      0.93      0.95      2208\n",
      "         Db7       0.88      0.94      0.91       485\n",
      "      DbMaj7       0.94      0.96      0.95      1248\n",
      "      DbMin7       0.95      0.93      0.94      2303\n",
      "          E7       0.86      0.96      0.91       469\n",
      "       EMaj7       0.95      0.96      0.95      1304\n",
      "       EMin7       0.97      0.93      0.95      2233\n",
      "         Eb7       0.91      0.95      0.93       478\n",
      "      EbMaj7       0.95      0.97      0.96      1237\n",
      "      EbMin7       0.97      0.93      0.95      2177\n",
      "          F7       0.90      0.96      0.93       468\n",
      "       FMaj7       0.95      0.96      0.95      1255\n",
      "       FMin7       0.95      0.95      0.95      2247\n",
      "          G7       0.91      0.96      0.94       537\n",
      "       GMaj7       0.96      0.95      0.95      1250\n",
      "       GMin7       0.97      0.93      0.95      2175\n",
      "         Gb7       0.85      0.99      0.91       472\n",
      "      GbMaj7       0.96      0.96      0.96      1299\n",
      "      GbMin7       0.97      0.93      0.95      2320\n",
      "\n",
      "    accuracy                           0.95     47973\n",
      "   macro avg       0.93      0.95      0.94     47973\n",
      "weighted avg       0.95      0.95      0.95     47973\n",
      "\n"
     ]
    }
   ],
   "source": [
    "model_lstm.evaluate(X_seq_test, y_seq_test)\n",
    "y_pred = np.argmax(model_lstm.predict(X_seq_test), axis=1)\n",
    "print(\n",
    "  sk.metrics.classification_report(y_seq_test, y_pred, target_names=encoder.classes_)\n",
    ")"
   ]
  },
  {
   "cell_type": "code",
   "execution_count": 17,
   "id": "5ea20c89-c560-42a6-9a76-b8114534bc03",
   "metadata": {},
   "outputs": [],
   "source": [
    "model_lstm.save(\"model_lstm_cens_seq40.keras\")\n",
    "pd.DataFrame(history.history).to_csv(\"model_lstm_cens_seq40_history.csv\", index=False)"
   ]
  },
  {
   "cell_type": "code",
   "execution_count": null,
   "id": "64a8f23f-b93b-44c3-aeb9-e3d1debe044d",
   "metadata": {},
   "outputs": [],
   "source": []
  }
 ],
 "metadata": {
  "kernelspec": {
   "display_name": "thesis_venv",
   "language": "python",
   "name": "thesis_venv"
  },
  "language_info": {
   "codemirror_mode": {
    "name": "ipython",
    "version": 3
   },
   "file_extension": ".py",
   "mimetype": "text/x-python",
   "name": "python",
   "nbconvert_exporter": "python",
   "pygments_lexer": "ipython3",
   "version": "3.13.5"
  }
 },
 "nbformat": 4,
 "nbformat_minor": 5
}
