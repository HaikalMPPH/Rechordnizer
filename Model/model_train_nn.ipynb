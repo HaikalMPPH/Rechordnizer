{
 "cells": [
  {
   "cell_type": "code",
   "execution_count": 1,
   "id": "a86b41fd-04c1-483c-b2fc-56926d6c3707",
   "metadata": {},
   "outputs": [
    {
     "name": "stderr",
     "output_type": "stream",
     "text": [
      "2025-07-05 16:07:16.668147: I tensorflow/core/platform/cpu_feature_guard.cc:210] This TensorFlow binary is optimized to use available CPU instructions in performance-critical operations.\n",
      "To enable the following instructions: SSE3 SSE4.1 SSE4.2 AVX AVX2 FMA, in other operations, rebuild TensorFlow with the appropriate compiler flags.\n"
     ]
    },
    {
     "ename": "AttributeError",
     "evalue": "'MessageFactory' object has no attribute 'GetPrototype'",
     "output_type": "error",
     "traceback": [
      "\u001b[31m---------------------------------------------------------------------------\u001b[39m",
      "\u001b[31mAttributeError\u001b[39m                            Traceback (most recent call last)",
      "\u001b[31mAttributeError\u001b[39m: 'MessageFactory' object has no attribute 'GetPrototype'"
     ]
    },
    {
     "ename": "AttributeError",
     "evalue": "'MessageFactory' object has no attribute 'GetPrototype'",
     "output_type": "error",
     "traceback": [
      "\u001b[31m---------------------------------------------------------------------------\u001b[39m",
      "\u001b[31mAttributeError\u001b[39m                            Traceback (most recent call last)",
      "\u001b[31mAttributeError\u001b[39m: 'MessageFactory' object has no attribute 'GetPrototype'"
     ]
    },
    {
     "ename": "AttributeError",
     "evalue": "'MessageFactory' object has no attribute 'GetPrototype'",
     "output_type": "error",
     "traceback": [
      "\u001b[31m---------------------------------------------------------------------------\u001b[39m",
      "\u001b[31mAttributeError\u001b[39m                            Traceback (most recent call last)",
      "\u001b[31mAttributeError\u001b[39m: 'MessageFactory' object has no attribute 'GetPrototype'"
     ]
    },
    {
     "ename": "AttributeError",
     "evalue": "'MessageFactory' object has no attribute 'GetPrototype'",
     "output_type": "error",
     "traceback": [
      "\u001b[31m---------------------------------------------------------------------------\u001b[39m",
      "\u001b[31mAttributeError\u001b[39m                            Traceback (most recent call last)",
      "\u001b[31mAttributeError\u001b[39m: 'MessageFactory' object has no attribute 'GetPrototype'"
     ]
    },
    {
     "ename": "AttributeError",
     "evalue": "'MessageFactory' object has no attribute 'GetPrototype'",
     "output_type": "error",
     "traceback": [
      "\u001b[31m---------------------------------------------------------------------------\u001b[39m",
      "\u001b[31mAttributeError\u001b[39m                            Traceback (most recent call last)",
      "\u001b[31mAttributeError\u001b[39m: 'MessageFactory' object has no attribute 'GetPrototype'"
     ]
    }
   ],
   "source": [
    "import tensorflow as tf\n",
    "import numpy as np\n",
    "import pandas as pd\n",
    "import sklearn as sk\n",
    "import joblib\n",
    "import random\n",
    "import gc\n",
    "import matplotlib.pyplot as plt"
   ]
  },
  {
   "cell_type": "code",
   "execution_count": 2,
   "id": "bd50646b-5ad4-4ade-93b2-0b42201c6398",
   "metadata": {},
   "outputs": [
    {
     "name": "stdout",
     "output_type": "stream",
     "text": [
      "Num GPUs Available: 0\n"
     ]
    }
   ],
   "source": [
    "print(\"Num GPUs Available:\", len(tf.config.list_physical_devices('GPU')))"
   ]
  },
  {
   "cell_type": "code",
   "execution_count": 3,
   "id": "a9bdfa92-78f8-4b7c-b19e-8d2b81782799",
   "metadata": {},
   "outputs": [
    {
     "data": {
      "text/html": [
       "<div>\n",
       "<style scoped>\n",
       "    .dataframe tbody tr th:only-of-type {\n",
       "        vertical-align: middle;\n",
       "    }\n",
       "\n",
       "    .dataframe tbody tr th {\n",
       "        vertical-align: top;\n",
       "    }\n",
       "\n",
       "    .dataframe thead th {\n",
       "        text-align: right;\n",
       "    }\n",
       "</style>\n",
       "<table border=\"1\" class=\"dataframe\">\n",
       "  <thead>\n",
       "    <tr style=\"text-align: right;\">\n",
       "      <th></th>\n",
       "      <th>Cens_C</th>\n",
       "      <th>Cens_Db</th>\n",
       "      <th>Cens_D</th>\n",
       "      <th>Cens_Eb</th>\n",
       "      <th>Cens_E</th>\n",
       "      <th>Cens_F</th>\n",
       "      <th>Cens_Gb</th>\n",
       "      <th>Cens_G</th>\n",
       "      <th>Cens_Ab</th>\n",
       "      <th>Cens_A</th>\n",
       "      <th>Cens_Bb</th>\n",
       "      <th>Cens_B</th>\n",
       "      <th>chord</th>\n",
       "    </tr>\n",
       "  </thead>\n",
       "  <tbody>\n",
       "    <tr>\n",
       "      <th>0</th>\n",
       "      <td>0.458163</td>\n",
       "      <td>0.228498</td>\n",
       "      <td>0.335618</td>\n",
       "      <td>0.385245</td>\n",
       "      <td>0.280831</td>\n",
       "      <td>0.562060</td>\n",
       "      <td>0.101404</td>\n",
       "      <td>0.142517</td>\n",
       "      <td>0.211683</td>\n",
       "      <td>0.000000</td>\n",
       "      <td>0.081103</td>\n",
       "      <td>0.007991</td>\n",
       "      <td>FMin7</td>\n",
       "    </tr>\n",
       "    <tr>\n",
       "      <th>1</th>\n",
       "      <td>0.456882</td>\n",
       "      <td>0.228481</td>\n",
       "      <td>0.329903</td>\n",
       "      <td>0.386718</td>\n",
       "      <td>0.270461</td>\n",
       "      <td>0.563033</td>\n",
       "      <td>0.104248</td>\n",
       "      <td>0.142325</td>\n",
       "      <td>0.223759</td>\n",
       "      <td>0.000000</td>\n",
       "      <td>0.096144</td>\n",
       "      <td>0.008832</td>\n",
       "      <td>FMin7</td>\n",
       "    </tr>\n",
       "    <tr>\n",
       "      <th>2</th>\n",
       "      <td>0.454308</td>\n",
       "      <td>0.229081</td>\n",
       "      <td>0.324611</td>\n",
       "      <td>0.388377</td>\n",
       "      <td>0.260669</td>\n",
       "      <td>0.563478</td>\n",
       "      <td>0.107217</td>\n",
       "      <td>0.142526</td>\n",
       "      <td>0.235052</td>\n",
       "      <td>0.000000</td>\n",
       "      <td>0.110957</td>\n",
       "      <td>0.009594</td>\n",
       "      <td>FMin7</td>\n",
       "    </tr>\n",
       "    <tr>\n",
       "      <th>3</th>\n",
       "      <td>0.450574</td>\n",
       "      <td>0.230340</td>\n",
       "      <td>0.319815</td>\n",
       "      <td>0.390179</td>\n",
       "      <td>0.251621</td>\n",
       "      <td>0.563336</td>\n",
       "      <td>0.110333</td>\n",
       "      <td>0.143008</td>\n",
       "      <td>0.245606</td>\n",
       "      <td>0.000000</td>\n",
       "      <td>0.125269</td>\n",
       "      <td>0.010269</td>\n",
       "      <td>FMin7</td>\n",
       "    </tr>\n",
       "    <tr>\n",
       "      <th>4</th>\n",
       "      <td>0.445894</td>\n",
       "      <td>0.232287</td>\n",
       "      <td>0.315578</td>\n",
       "      <td>0.392097</td>\n",
       "      <td>0.243367</td>\n",
       "      <td>0.562581</td>\n",
       "      <td>0.113524</td>\n",
       "      <td>0.143594</td>\n",
       "      <td>0.255459</td>\n",
       "      <td>0.000000</td>\n",
       "      <td>0.138864</td>\n",
       "      <td>0.010856</td>\n",
       "      <td>FMin7</td>\n",
       "    </tr>\n",
       "    <tr>\n",
       "      <th>...</th>\n",
       "      <td>...</td>\n",
       "      <td>...</td>\n",
       "      <td>...</td>\n",
       "      <td>...</td>\n",
       "      <td>...</td>\n",
       "      <td>...</td>\n",
       "      <td>...</td>\n",
       "      <td>...</td>\n",
       "      <td>...</td>\n",
       "      <td>...</td>\n",
       "      <td>...</td>\n",
       "      <td>...</td>\n",
       "      <td>...</td>\n",
       "    </tr>\n",
       "    <tr>\n",
       "      <th>1193</th>\n",
       "      <td>0.490536</td>\n",
       "      <td>0.235216</td>\n",
       "      <td>0.519492</td>\n",
       "      <td>0.137961</td>\n",
       "      <td>0.188265</td>\n",
       "      <td>0.078017</td>\n",
       "      <td>0.327002</td>\n",
       "      <td>0.024591</td>\n",
       "      <td>0.219295</td>\n",
       "      <td>0.340838</td>\n",
       "      <td>0.000000</td>\n",
       "      <td>0.319088</td>\n",
       "      <td>D7</td>\n",
       "    </tr>\n",
       "    <tr>\n",
       "      <th>1194</th>\n",
       "      <td>0.477874</td>\n",
       "      <td>0.256360</td>\n",
       "      <td>0.501453</td>\n",
       "      <td>0.154785</td>\n",
       "      <td>0.191382</td>\n",
       "      <td>0.085957</td>\n",
       "      <td>0.332729</td>\n",
       "      <td>0.029796</td>\n",
       "      <td>0.262134</td>\n",
       "      <td>0.325269</td>\n",
       "      <td>0.000000</td>\n",
       "      <td>0.316821</td>\n",
       "      <td>D7</td>\n",
       "    </tr>\n",
       "    <tr>\n",
       "      <th>1195</th>\n",
       "      <td>0.461399</td>\n",
       "      <td>0.277389</td>\n",
       "      <td>0.479605</td>\n",
       "      <td>0.172138</td>\n",
       "      <td>0.193952</td>\n",
       "      <td>0.093884</td>\n",
       "      <td>0.337396</td>\n",
       "      <td>0.035385</td>\n",
       "      <td>0.308792</td>\n",
       "      <td>0.307975</td>\n",
       "      <td>0.000000</td>\n",
       "      <td>0.314314</td>\n",
       "      <td>D7</td>\n",
       "    </tr>\n",
       "    <tr>\n",
       "      <th>1196</th>\n",
       "      <td>0.440879</td>\n",
       "      <td>0.297556</td>\n",
       "      <td>0.453802</td>\n",
       "      <td>0.189563</td>\n",
       "      <td>0.195533</td>\n",
       "      <td>0.101496</td>\n",
       "      <td>0.340624</td>\n",
       "      <td>0.041261</td>\n",
       "      <td>0.358308</td>\n",
       "      <td>0.288795</td>\n",
       "      <td>0.000000</td>\n",
       "      <td>0.311715</td>\n",
       "      <td>D7</td>\n",
       "    </tr>\n",
       "    <tr>\n",
       "      <th>1197</th>\n",
       "      <td>0.416471</td>\n",
       "      <td>0.316289</td>\n",
       "      <td>0.424072</td>\n",
       "      <td>0.206602</td>\n",
       "      <td>0.195772</td>\n",
       "      <td>0.108383</td>\n",
       "      <td>0.341994</td>\n",
       "      <td>0.047293</td>\n",
       "      <td>0.409321</td>\n",
       "      <td>0.267705</td>\n",
       "      <td>0.000000</td>\n",
       "      <td>0.309049</td>\n",
       "      <td>D7</td>\n",
       "    </tr>\n",
       "  </tbody>\n",
       "</table>\n",
       "<p>239900 rows × 13 columns</p>\n",
       "</div>"
      ],
      "text/plain": [
       "        Cens_C   Cens_Db    Cens_D   Cens_Eb    Cens_E    Cens_F   Cens_Gb  \\\n",
       "0     0.458163  0.228498  0.335618  0.385245  0.280831  0.562060  0.101404   \n",
       "1     0.456882  0.228481  0.329903  0.386718  0.270461  0.563033  0.104248   \n",
       "2     0.454308  0.229081  0.324611  0.388377  0.260669  0.563478  0.107217   \n",
       "3     0.450574  0.230340  0.319815  0.390179  0.251621  0.563336  0.110333   \n",
       "4     0.445894  0.232287  0.315578  0.392097  0.243367  0.562581  0.113524   \n",
       "...        ...       ...       ...       ...       ...       ...       ...   \n",
       "1193  0.490536  0.235216  0.519492  0.137961  0.188265  0.078017  0.327002   \n",
       "1194  0.477874  0.256360  0.501453  0.154785  0.191382  0.085957  0.332729   \n",
       "1195  0.461399  0.277389  0.479605  0.172138  0.193952  0.093884  0.337396   \n",
       "1196  0.440879  0.297556  0.453802  0.189563  0.195533  0.101496  0.340624   \n",
       "1197  0.416471  0.316289  0.424072  0.206602  0.195772  0.108383  0.341994   \n",
       "\n",
       "        Cens_G   Cens_Ab    Cens_A   Cens_Bb    Cens_B  chord  \n",
       "0     0.142517  0.211683  0.000000  0.081103  0.007991  FMin7  \n",
       "1     0.142325  0.223759  0.000000  0.096144  0.008832  FMin7  \n",
       "2     0.142526  0.235052  0.000000  0.110957  0.009594  FMin7  \n",
       "3     0.143008  0.245606  0.000000  0.125269  0.010269  FMin7  \n",
       "4     0.143594  0.255459  0.000000  0.138864  0.010856  FMin7  \n",
       "...        ...       ...       ...       ...       ...    ...  \n",
       "1193  0.024591  0.219295  0.340838  0.000000  0.319088     D7  \n",
       "1194  0.029796  0.262134  0.325269  0.000000  0.316821     D7  \n",
       "1195  0.035385  0.308792  0.307975  0.000000  0.314314     D7  \n",
       "1196  0.041261  0.358308  0.288795  0.000000  0.311715     D7  \n",
       "1197  0.047293  0.409321  0.267705  0.000000  0.309049     D7  \n",
       "\n",
       "[239900 rows x 13 columns]"
      ]
     },
     "execution_count": 3,
     "metadata": {},
     "output_type": "execute_result"
    }
   ],
   "source": [
    "df = pd.read_hdf(\"./dataset.h5\", key=\"df\")\n",
    "df"
   ]
  },
  {
   "cell_type": "code",
   "execution_count": 4,
   "id": "155fb292-42c6-4743-bf2d-4325516940ff",
   "metadata": {},
   "outputs": [
    {
     "name": "stdout",
     "output_type": "stream",
     "text": [
      "Chords\n",
      "chord\n",
      "CMin7     11630\n",
      "AbMin7    11611\n",
      "GbMin7    11600\n",
      "DbMin7    11514\n",
      "FMin7     11264\n",
      "EMin7     11163\n",
      "AMin7     11118\n",
      "DMin7     11039\n",
      "BbMin7    11026\n",
      "EbMin7    10884\n",
      "GMin7     10876\n",
      "BMin7     10825\n",
      "AMaj7      6860\n",
      "EMaj7      6518\n",
      "GbMaj7     6493\n",
      "CMaj7      6406\n",
      "AbMaj7     6379\n",
      "FMaj7      6278\n",
      "BbMaj7     6270\n",
      "GMaj7      6249\n",
      "DbMaj7     6240\n",
      "DMaj7      6212\n",
      "EbMaj7     6185\n",
      "BMaj7      6135\n",
      "G7         2692\n",
      "B7         2536\n",
      "Db7        2428\n",
      "Bb7        2427\n",
      "Ab7        2426\n",
      "C7         2400\n",
      "D7         2399\n",
      "Eb7        2389\n",
      "A7         2384\n",
      "Gb7        2359\n",
      "E7         2345\n",
      "F7         2340\n",
      "Name: count, dtype: int64\n"
     ]
    }
   ],
   "source": [
    "print(\"Chords\")\n",
    "print(df[\"chord\"].value_counts())"
   ]
  },
  {
   "cell_type": "code",
   "execution_count": 5,
   "id": "f22910a2-a2b3-4672-8409-0d9335166d63",
   "metadata": {},
   "outputs": [
    {
     "data": {
      "text/plain": [
       "['./encoder.xz']"
      ]
     },
     "execution_count": 5,
     "metadata": {},
     "output_type": "execute_result"
    }
   ],
   "source": [
    "y = df[\"chord\"]\n",
    "X = df.drop(columns=\"chord\")\n",
    "encoder = sk.preprocessing.LabelEncoder()\n",
    "y_encoded = encoder.fit_transform(y)\n",
    "\n",
    "joblib.dump(encoder, \"./encoder.xz\")"
   ]
  },
  {
   "cell_type": "code",
   "execution_count": 6,
   "id": "01f9d408-e165-4e68-941f-ccdcd4c36b1d",
   "metadata": {},
   "outputs": [
    {
     "data": {
      "text/plain": [
       "20"
      ]
     },
     "execution_count": 6,
     "metadata": {},
     "output_type": "execute_result"
    }
   ],
   "source": [
    "del df\n",
    "gc.collect()"
   ]
  },
  {
   "cell_type": "markdown",
   "id": "1bb64354-b100-49f1-bce9-dc17f43e08b2",
   "metadata": {},
   "source": [
    "# LSTM"
   ]
  },
  {
   "cell_type": "code",
   "execution_count": 7,
   "id": "a22ecbda-f306-4fea-9746-7d4ca17726fd",
   "metadata": {},
   "outputs": [
    {
     "name": "stdout",
     "output_type": "stream",
     "text": [
      "X sequence shape:  (239881, 20, 12)\n",
      "y sequence shape:  (239881,)\n"
     ]
    },
    {
     "data": {
      "text/plain": [
       "0"
      ]
     },
     "execution_count": 7,
     "metadata": {},
     "output_type": "execute_result"
    }
   ],
   "source": [
    "SEQUENCE_LEN = 20 # 0.1 * 20.0 = 2 sec of sequence data\n",
    "\n",
    "X_seq, y_encoded_seq = None, None\n",
    "X_seq_list = []\n",
    "y_encoded_seq_list = []\n",
    "for i in range(len(X) - SEQUENCE_LEN + 1):\n",
    "    X_seq_list.append(X.values[i : i + SEQUENCE_LEN, :])\n",
    "    y_encoded_seq_list.append(y_encoded[i + SEQUENCE_LEN - 1])\n",
    "\n",
    "X_seq, y_encoded_seq = np.array(X_seq_list), np.array(y_encoded_seq_list)\n",
    "\n",
    "print(\"X sequence shape: \", X_seq.shape)\n",
    "print(\"y sequence shape: \", y_encoded_seq.shape)\n",
    "\n",
    "del X_seq_list\n",
    "del y_encoded_seq_list\n",
    "gc.collect()"
   ]
  },
  {
   "cell_type": "code",
   "execution_count": 8,
   "id": "b0d6f7ed-bea8-49ed-a4d1-c8604955e393",
   "metadata": {},
   "outputs": [
    {
     "name": "stdout",
     "output_type": "stream",
     "text": [
      "X deduplicate shape:  (239881, 20, 12)\n",
      "y deuplicate shape:   (239881,)\n"
     ]
    },
    {
     "data": {
      "text/plain": [
       "0"
      ]
     },
     "execution_count": 8,
     "metadata": {},
     "output_type": "execute_result"
    }
   ],
   "source": [
    "X_seq_flat = X_seq.reshape(X_seq.shape[0], -1)\n",
    "_, unique_idx = np.unique(X_seq_flat, axis=0, return_index=True)\n",
    "unique_idx = np.sort(unique_idx)\n",
    "\n",
    "X_seq = X_seq[unique_idx]\n",
    "y_encoded_seq = y_encoded_seq[unique_idx]\n",
    "\n",
    "print(\"X deduplicate shape: \", X_seq.shape)\n",
    "print(\"y deuplicate shape:  \", y_encoded_seq.shape)\n",
    "\n",
    "del X_seq_flat\n",
    "gc.collect()"
   ]
  },
  {
   "cell_type": "code",
   "execution_count": 9,
   "id": "7b2ec4ba-ec19-4210-b01d-bbc116eac1ed",
   "metadata": {},
   "outputs": [
    {
     "name": "stdout",
     "output_type": "stream",
     "text": [
      "X_train: 191904\n",
      "y_train: 191904\n",
      "X_test:  47977\n",
      "y_test:  47977\n"
     ]
    },
    {
     "data": {
      "text/plain": [
       "0"
      ]
     },
     "execution_count": 9,
     "metadata": {},
     "output_type": "execute_result"
    }
   ],
   "source": [
    "X_seq_train, X_seq_test, y_seq_train, y_seq_test = sk.model_selection.train_test_split(\n",
    "    X_seq,\n",
    "    y_encoded_seq,\n",
    "    test_size=0.2,\n",
    "    random_state=42,\n",
    "    stratify=y_encoded_seq,\n",
    ")\n",
    "\n",
    "print(f\"X_train: {len(X_seq_train)}\")\n",
    "print(f\"y_train: {len(y_seq_train)}\")\n",
    "print(f\"X_test:  {len(X_seq_test)}\")\n",
    "print(f\"y_test:  {len(y_seq_test)}\")\n",
    "\n",
    "del X_seq\n",
    "del y_encoded_seq\n",
    "gc.collect()"
   ]
  },
  {
   "cell_type": "code",
   "execution_count": 10,
   "id": "57f6e917-5e8b-49c4-bb6f-97258dfa85e4",
   "metadata": {},
   "outputs": [
    {
     "name": "stdout",
     "output_type": "stream",
     "text": [
      "Total feature:  12\n",
      "Total class:    36\n"
     ]
    }
   ],
   "source": [
    "print(\"Total feature: \", X_seq_train.shape[2])\n",
    "print(\"Total class:   \", len(encoder.classes_))"
   ]
  },
  {
   "cell_type": "code",
   "execution_count": 11,
   "id": "bce6e562-b4ae-4bde-bc29-4b1f70ce3550",
   "metadata": {},
   "outputs": [],
   "source": [
    "class_weights = sk.utils.class_weight.compute_class_weight(\n",
    "    class_weight='balanced',\n",
    "    classes=np.unique(y_seq_train),\n",
    "    y=y_seq_train,\n",
    ")\n",
    "class_weight_dict = dict(enumerate(class_weights))"
   ]
  },
  {
   "cell_type": "code",
   "execution_count": 12,
   "id": "adb2f230-0a9d-455c-86f4-4fb5ac20590a",
   "metadata": {},
   "outputs": [
    {
     "name": "stderr",
     "output_type": "stream",
     "text": [
      "/usr/lib/python3.13/site-packages/keras/src/layers/rnn/rnn.py:199: UserWarning: Do not pass an `input_shape`/`input_dim` argument to a layer. When using Sequential models, prefer using an `Input(shape)` object as the first layer in the model instead.\n",
      "  super().__init__(**kwargs)\n"
     ]
    },
    {
     "data": {
      "text/html": [
       "<pre style=\"white-space:pre;overflow-x:auto;line-height:normal;font-family:Menlo,'DejaVu Sans Mono',consolas,'Courier New',monospace\"><span style=\"font-weight: bold\">Model: \"sequential\"</span>\n",
       "</pre>\n"
      ],
      "text/plain": [
       "\u001b[1mModel: \"sequential\"\u001b[0m\n"
      ]
     },
     "metadata": {},
     "output_type": "display_data"
    },
    {
     "data": {
      "text/html": [
       "<pre style=\"white-space:pre;overflow-x:auto;line-height:normal;font-family:Menlo,'DejaVu Sans Mono',consolas,'Courier New',monospace\">┏━━━━━━━━━━━━━━━━━━━━━━━━━━━━━━━━━┳━━━━━━━━━━━━━━━━━━━━━━━━┳━━━━━━━━━━━━━━━┓\n",
       "┃<span style=\"font-weight: bold\"> Layer (type)                    </span>┃<span style=\"font-weight: bold\"> Output Shape           </span>┃<span style=\"font-weight: bold\">       Param # </span>┃\n",
       "┡━━━━━━━━━━━━━━━━━━━━━━━━━━━━━━━━━╇━━━━━━━━━━━━━━━━━━━━━━━━╇━━━━━━━━━━━━━━━┩\n",
       "│ bidirectional (<span style=\"color: #0087ff; text-decoration-color: #0087ff\">Bidirectional</span>)   │ ?                      │   <span style=\"color: #00af00; text-decoration-color: #00af00\">0</span> (unbuilt) │\n",
       "├─────────────────────────────────┼────────────────────────┼───────────────┤\n",
       "│ dropout (<span style=\"color: #0087ff; text-decoration-color: #0087ff\">Dropout</span>)               │ ?                      │             <span style=\"color: #00af00; text-decoration-color: #00af00\">0</span> │\n",
       "├─────────────────────────────────┼────────────────────────┼───────────────┤\n",
       "│ bidirectional_1 (<span style=\"color: #0087ff; text-decoration-color: #0087ff\">Bidirectional</span>) │ ?                      │   <span style=\"color: #00af00; text-decoration-color: #00af00\">0</span> (unbuilt) │\n",
       "├─────────────────────────────────┼────────────────────────┼───────────────┤\n",
       "│ dropout_1 (<span style=\"color: #0087ff; text-decoration-color: #0087ff\">Dropout</span>)             │ ?                      │             <span style=\"color: #00af00; text-decoration-color: #00af00\">0</span> │\n",
       "├─────────────────────────────────┼────────────────────────┼───────────────┤\n",
       "│ dense (<span style=\"color: #0087ff; text-decoration-color: #0087ff\">Dense</span>)                   │ ?                      │   <span style=\"color: #00af00; text-decoration-color: #00af00\">0</span> (unbuilt) │\n",
       "└─────────────────────────────────┴────────────────────────┴───────────────┘\n",
       "</pre>\n"
      ],
      "text/plain": [
       "┏━━━━━━━━━━━━━━━━━━━━━━━━━━━━━━━━━┳━━━━━━━━━━━━━━━━━━━━━━━━┳━━━━━━━━━━━━━━━┓\n",
       "┃\u001b[1m \u001b[0m\u001b[1mLayer (type)                   \u001b[0m\u001b[1m \u001b[0m┃\u001b[1m \u001b[0m\u001b[1mOutput Shape          \u001b[0m\u001b[1m \u001b[0m┃\u001b[1m \u001b[0m\u001b[1m      Param #\u001b[0m\u001b[1m \u001b[0m┃\n",
       "┡━━━━━━━━━━━━━━━━━━━━━━━━━━━━━━━━━╇━━━━━━━━━━━━━━━━━━━━━━━━╇━━━━━━━━━━━━━━━┩\n",
       "│ bidirectional (\u001b[38;5;33mBidirectional\u001b[0m)   │ ?                      │   \u001b[38;5;34m0\u001b[0m (unbuilt) │\n",
       "├─────────────────────────────────┼────────────────────────┼───────────────┤\n",
       "│ dropout (\u001b[38;5;33mDropout\u001b[0m)               │ ?                      │             \u001b[38;5;34m0\u001b[0m │\n",
       "├─────────────────────────────────┼────────────────────────┼───────────────┤\n",
       "│ bidirectional_1 (\u001b[38;5;33mBidirectional\u001b[0m) │ ?                      │   \u001b[38;5;34m0\u001b[0m (unbuilt) │\n",
       "├─────────────────────────────────┼────────────────────────┼───────────────┤\n",
       "│ dropout_1 (\u001b[38;5;33mDropout\u001b[0m)             │ ?                      │             \u001b[38;5;34m0\u001b[0m │\n",
       "├─────────────────────────────────┼────────────────────────┼───────────────┤\n",
       "│ dense (\u001b[38;5;33mDense\u001b[0m)                   │ ?                      │   \u001b[38;5;34m0\u001b[0m (unbuilt) │\n",
       "└─────────────────────────────────┴────────────────────────┴───────────────┘\n"
      ]
     },
     "metadata": {},
     "output_type": "display_data"
    },
    {
     "data": {
      "text/html": [
       "<pre style=\"white-space:pre;overflow-x:auto;line-height:normal;font-family:Menlo,'DejaVu Sans Mono',consolas,'Courier New',monospace\"><span style=\"font-weight: bold\"> Total params: </span><span style=\"color: #00af00; text-decoration-color: #00af00\">0</span> (0.00 B)\n",
       "</pre>\n"
      ],
      "text/plain": [
       "\u001b[1m Total params: \u001b[0m\u001b[38;5;34m0\u001b[0m (0.00 B)\n"
      ]
     },
     "metadata": {},
     "output_type": "display_data"
    },
    {
     "data": {
      "text/html": [
       "<pre style=\"white-space:pre;overflow-x:auto;line-height:normal;font-family:Menlo,'DejaVu Sans Mono',consolas,'Courier New',monospace\"><span style=\"font-weight: bold\"> Trainable params: </span><span style=\"color: #00af00; text-decoration-color: #00af00\">0</span> (0.00 B)\n",
       "</pre>\n"
      ],
      "text/plain": [
       "\u001b[1m Trainable params: \u001b[0m\u001b[38;5;34m0\u001b[0m (0.00 B)\n"
      ]
     },
     "metadata": {},
     "output_type": "display_data"
    },
    {
     "data": {
      "text/html": [
       "<pre style=\"white-space:pre;overflow-x:auto;line-height:normal;font-family:Menlo,'DejaVu Sans Mono',consolas,'Courier New',monospace\"><span style=\"font-weight: bold\"> Non-trainable params: </span><span style=\"color: #00af00; text-decoration-color: #00af00\">0</span> (0.00 B)\n",
       "</pre>\n"
      ],
      "text/plain": [
       "\u001b[1m Non-trainable params: \u001b[0m\u001b[38;5;34m0\u001b[0m (0.00 B)\n"
      ]
     },
     "metadata": {},
     "output_type": "display_data"
    }
   ],
   "source": [
    "model_lstm = tf.keras.Sequential([\n",
    "    tf.keras.layers.Bidirectional(tf.keras.layers.LSTM(32, return_sequences=True, input_shape=(SEQUENCE_LEN, X_seq_train.shape[2]))),\n",
    "    tf.keras.layers.Dropout(0.25),\n",
    "        \n",
    "    tf.keras.layers.Bidirectional(tf.keras.layers.LSTM(32, return_sequences=False)),\n",
    "    tf.keras.layers.Dropout(0.25),\n",
    "\n",
    "    tf.keras.layers.Dense(len(encoder.classes_), activation='softmax'),\n",
    "])\n",
    "\n",
    "model_lstm.compile(\n",
    "    optimizer=\"adam\",\n",
    "    loss=\"sparse_categorical_crossentropy\",\n",
    "    metrics=[\"accuracy\"],\n",
    ")\n",
    "\n",
    "model_lstm.summary()"
   ]
  },
  {
   "cell_type": "code",
   "execution_count": 13,
   "id": "d1ea8eb2-821b-4250-a9eb-60978b0f563a",
   "metadata": {},
   "outputs": [
    {
     "name": "stdout",
     "output_type": "stream",
     "text": [
      "Epoch 1/500\n",
      "\u001b[1m4798/4798\u001b[0m \u001b[32m━━━━━━━━━━━━━━━━━━━━\u001b[0m\u001b[37m\u001b[0m \u001b[1m40s\u001b[0m 8ms/step - accuracy: 0.4101 - loss: 2.1201 - val_accuracy: 0.6314 - val_loss: 1.2869\n",
      "Epoch 2/500\n",
      "\u001b[1m4798/4798\u001b[0m \u001b[32m━━━━━━━━━━━━━━━━━━━━\u001b[0m\u001b[37m\u001b[0m \u001b[1m37s\u001b[0m 8ms/step - accuracy: 0.6059 - loss: 1.3054 - val_accuracy: 0.6780 - val_loss: 1.1117\n",
      "Epoch 3/500\n",
      "\u001b[1m4798/4798\u001b[0m \u001b[32m━━━━━━━━━━━━━━━━━━━━\u001b[0m\u001b[37m\u001b[0m \u001b[1m38s\u001b[0m 8ms/step - accuracy: 0.6516 - loss: 1.1237 - val_accuracy: 0.7039 - val_loss: 1.0119\n",
      "Epoch 4/500\n",
      "\u001b[1m4798/4798\u001b[0m \u001b[32m━━━━━━━━━━━━━━━━━━━━\u001b[0m\u001b[37m\u001b[0m \u001b[1m41s\u001b[0m 8ms/step - accuracy: 0.6784 - loss: 1.0090 - val_accuracy: 0.7227 - val_loss: 0.9425\n",
      "Epoch 5/500\n",
      "\u001b[1m4798/4798\u001b[0m \u001b[32m━━━━━━━━━━━━━━━━━━━━\u001b[0m\u001b[37m\u001b[0m \u001b[1m40s\u001b[0m 8ms/step - accuracy: 0.6982 - loss: 0.9312 - val_accuracy: 0.7507 - val_loss: 0.8462\n",
      "Epoch 6/500\n",
      "\u001b[1m4798/4798\u001b[0m \u001b[32m━━━━━━━━━━━━━━━━━━━━\u001b[0m\u001b[37m\u001b[0m \u001b[1m43s\u001b[0m 9ms/step - accuracy: 0.7160 - loss: 0.8698 - val_accuracy: 0.7576 - val_loss: 0.8126\n",
      "Epoch 7/500\n",
      "\u001b[1m4798/4798\u001b[0m \u001b[32m━━━━━━━━━━━━━━━━━━━━\u001b[0m\u001b[37m\u001b[0m \u001b[1m41s\u001b[0m 8ms/step - accuracy: 0.7283 - loss: 0.8185 - val_accuracy: 0.7639 - val_loss: 0.7936\n",
      "Epoch 8/500\n",
      "\u001b[1m4798/4798\u001b[0m \u001b[32m━━━━━━━━━━━━━━━━━━━━\u001b[0m\u001b[37m\u001b[0m \u001b[1m39s\u001b[0m 8ms/step - accuracy: 0.7378 - loss: 0.7835 - val_accuracy: 0.7719 - val_loss: 0.7754\n",
      "Epoch 9/500\n",
      "\u001b[1m4798/4798\u001b[0m \u001b[32m━━━━━━━━━━━━━━━━━━━━\u001b[0m\u001b[37m\u001b[0m \u001b[1m40s\u001b[0m 8ms/step - accuracy: 0.7469 - loss: 0.7501 - val_accuracy: 0.7909 - val_loss: 0.7072\n",
      "Epoch 10/500\n",
      "\u001b[1m4798/4798\u001b[0m \u001b[32m━━━━━━━━━━━━━━━━━━━━\u001b[0m\u001b[37m\u001b[0m \u001b[1m40s\u001b[0m 8ms/step - accuracy: 0.7548 - loss: 0.7208 - val_accuracy: 0.7953 - val_loss: 0.6855\n",
      "Epoch 11/500\n",
      "\u001b[1m4798/4798\u001b[0m \u001b[32m━━━━━━━━━━━━━━━━━━━━\u001b[0m\u001b[37m\u001b[0m \u001b[1m41s\u001b[0m 8ms/step - accuracy: 0.7599 - loss: 0.7005 - val_accuracy: 0.7926 - val_loss: 0.6918\n",
      "Epoch 12/500\n",
      "\u001b[1m4798/4798\u001b[0m \u001b[32m━━━━━━━━━━━━━━━━━━━━\u001b[0m\u001b[37m\u001b[0m \u001b[1m41s\u001b[0m 8ms/step - accuracy: 0.7668 - loss: 0.6753 - val_accuracy: 0.8055 - val_loss: 0.6483\n",
      "Epoch 13/500\n",
      "\u001b[1m4798/4798\u001b[0m \u001b[32m━━━━━━━━━━━━━━━━━━━━\u001b[0m\u001b[37m\u001b[0m \u001b[1m41s\u001b[0m 9ms/step - accuracy: 0.7707 - loss: 0.6532 - val_accuracy: 0.8102 - val_loss: 0.6315\n",
      "Epoch 14/500\n",
      "\u001b[1m4798/4798\u001b[0m \u001b[32m━━━━━━━━━━━━━━━━━━━━\u001b[0m\u001b[37m\u001b[0m \u001b[1m41s\u001b[0m 9ms/step - accuracy: 0.7771 - loss: 0.6327 - val_accuracy: 0.8144 - val_loss: 0.6261\n",
      "Epoch 15/500\n",
      "\u001b[1m4798/4798\u001b[0m \u001b[32m━━━━━━━━━━━━━━━━━━━━\u001b[0m\u001b[37m\u001b[0m \u001b[1m42s\u001b[0m 9ms/step - accuracy: 0.7830 - loss: 0.6225 - val_accuracy: 0.8092 - val_loss: 0.6430\n",
      "Epoch 16/500\n",
      "\u001b[1m4798/4798\u001b[0m \u001b[32m━━━━━━━━━━━━━━━━━━━━\u001b[0m\u001b[37m\u001b[0m \u001b[1m42s\u001b[0m 9ms/step - accuracy: 0.7854 - loss: 0.6049 - val_accuracy: 0.8229 - val_loss: 0.5842\n",
      "Epoch 17/500\n",
      "\u001b[1m4798/4798\u001b[0m \u001b[32m━━━━━━━━━━━━━━━━━━━━\u001b[0m\u001b[37m\u001b[0m \u001b[1m40s\u001b[0m 8ms/step - accuracy: 0.7902 - loss: 0.5871 - val_accuracy: 0.8261 - val_loss: 0.5804\n",
      "Epoch 18/500\n",
      "\u001b[1m4798/4798\u001b[0m \u001b[32m━━━━━━━━━━━━━━━━━━━━\u001b[0m\u001b[37m\u001b[0m \u001b[1m40s\u001b[0m 8ms/step - accuracy: 0.7924 - loss: 0.5816 - val_accuracy: 0.8304 - val_loss: 0.5611\n",
      "Epoch 19/500\n",
      "\u001b[1m4798/4798\u001b[0m \u001b[32m━━━━━━━━━━━━━━━━━━━━\u001b[0m\u001b[37m\u001b[0m \u001b[1m40s\u001b[0m 8ms/step - accuracy: 0.7990 - loss: 0.5648 - val_accuracy: 0.8316 - val_loss: 0.5563\n",
      "Epoch 20/500\n",
      "\u001b[1m4798/4798\u001b[0m \u001b[32m━━━━━━━━━━━━━━━━━━━━\u001b[0m\u001b[37m\u001b[0m \u001b[1m41s\u001b[0m 8ms/step - accuracy: 0.8012 - loss: 0.5624 - val_accuracy: 0.8288 - val_loss: 0.5596\n",
      "Epoch 21/500\n",
      "\u001b[1m4798/4798\u001b[0m \u001b[32m━━━━━━━━━━━━━━━━━━━━\u001b[0m\u001b[37m\u001b[0m \u001b[1m40s\u001b[0m 8ms/step - accuracy: 0.8045 - loss: 0.5476 - val_accuracy: 0.8344 - val_loss: 0.5500\n",
      "Epoch 22/500\n",
      "\u001b[1m4798/4798\u001b[0m \u001b[32m━━━━━━━━━━━━━━━━━━━━\u001b[0m\u001b[37m\u001b[0m \u001b[1m40s\u001b[0m 8ms/step - accuracy: 0.8041 - loss: 0.5415 - val_accuracy: 0.8393 - val_loss: 0.5293\n",
      "Epoch 23/500\n",
      "\u001b[1m4798/4798\u001b[0m \u001b[32m━━━━━━━━━━━━━━━━━━━━\u001b[0m\u001b[37m\u001b[0m \u001b[1m40s\u001b[0m 8ms/step - accuracy: 0.8074 - loss: 0.5333 - val_accuracy: 0.8414 - val_loss: 0.5266\n",
      "Epoch 24/500\n",
      "\u001b[1m4798/4798\u001b[0m \u001b[32m━━━━━━━━━━━━━━━━━━━━\u001b[0m\u001b[37m\u001b[0m \u001b[1m40s\u001b[0m 8ms/step - accuracy: 0.8126 - loss: 0.5177 - val_accuracy: 0.8419 - val_loss: 0.5330\n",
      "Epoch 25/500\n",
      "\u001b[1m4798/4798\u001b[0m \u001b[32m━━━━━━━━━━━━━━━━━━━━\u001b[0m\u001b[37m\u001b[0m \u001b[1m41s\u001b[0m 8ms/step - accuracy: 0.8125 - loss: 0.5176 - val_accuracy: 0.8420 - val_loss: 0.5236\n",
      "Epoch 26/500\n",
      "\u001b[1m4798/4798\u001b[0m \u001b[32m━━━━━━━━━━━━━━━━━━━━\u001b[0m\u001b[37m\u001b[0m \u001b[1m41s\u001b[0m 8ms/step - accuracy: 0.8144 - loss: 0.5097 - val_accuracy: 0.8485 - val_loss: 0.4978\n",
      "Epoch 27/500\n",
      "\u001b[1m4798/4798\u001b[0m \u001b[32m━━━━━━━━━━━━━━━━━━━━\u001b[0m\u001b[37m\u001b[0m \u001b[1m41s\u001b[0m 8ms/step - accuracy: 0.8175 - loss: 0.5000 - val_accuracy: 0.8483 - val_loss: 0.4960\n",
      "Epoch 28/500\n",
      "\u001b[1m4798/4798\u001b[0m \u001b[32m━━━━━━━━━━━━━━━━━━━━\u001b[0m\u001b[37m\u001b[0m \u001b[1m42s\u001b[0m 9ms/step - accuracy: 0.8180 - loss: 0.4983 - val_accuracy: 0.8495 - val_loss: 0.4961\n",
      "Epoch 29/500\n",
      "\u001b[1m4798/4798\u001b[0m \u001b[32m━━━━━━━━━━━━━━━━━━━━\u001b[0m\u001b[37m\u001b[0m \u001b[1m43s\u001b[0m 9ms/step - accuracy: 0.8210 - loss: 0.4870 - val_accuracy: 0.8526 - val_loss: 0.4852\n",
      "Epoch 30/500\n",
      "\u001b[1m4798/4798\u001b[0m \u001b[32m━━━━━━━━━━━━━━━━━━━━\u001b[0m\u001b[37m\u001b[0m \u001b[1m43s\u001b[0m 9ms/step - accuracy: 0.8238 - loss: 0.4833 - val_accuracy: 0.8541 - val_loss: 0.4789\n",
      "Epoch 31/500\n",
      "\u001b[1m4798/4798\u001b[0m \u001b[32m━━━━━━━━━━━━━━━━━━━━\u001b[0m\u001b[37m\u001b[0m \u001b[1m43s\u001b[0m 9ms/step - accuracy: 0.8265 - loss: 0.4740 - val_accuracy: 0.8515 - val_loss: 0.4931\n",
      "Epoch 32/500\n",
      "\u001b[1m4798/4798\u001b[0m \u001b[32m━━━━━━━━━━━━━━━━━━━━\u001b[0m\u001b[37m\u001b[0m \u001b[1m43s\u001b[0m 9ms/step - accuracy: 0.8250 - loss: 0.4791 - val_accuracy: 0.8569 - val_loss: 0.4720\n",
      "Epoch 33/500\n",
      "\u001b[1m4798/4798\u001b[0m \u001b[32m━━━━━━━━━━━━━━━━━━━━\u001b[0m\u001b[37m\u001b[0m \u001b[1m44s\u001b[0m 9ms/step - accuracy: 0.8267 - loss: 0.4725 - val_accuracy: 0.8602 - val_loss: 0.4635\n",
      "Epoch 34/500\n",
      "\u001b[1m4798/4798\u001b[0m \u001b[32m━━━━━━━━━━━━━━━━━━━━\u001b[0m\u001b[37m\u001b[0m \u001b[1m44s\u001b[0m 9ms/step - accuracy: 0.8276 - loss: 0.4680 - val_accuracy: 0.8571 - val_loss: 0.4716\n",
      "Epoch 35/500\n",
      "\u001b[1m4798/4798\u001b[0m \u001b[32m━━━━━━━━━━━━━━━━━━━━\u001b[0m\u001b[37m\u001b[0m \u001b[1m44s\u001b[0m 9ms/step - accuracy: 0.8269 - loss: 0.4690 - val_accuracy: 0.8618 - val_loss: 0.4542\n",
      "Epoch 36/500\n",
      "\u001b[1m4798/4798\u001b[0m \u001b[32m━━━━━━━━━━━━━━━━━━━━\u001b[0m\u001b[37m\u001b[0m \u001b[1m43s\u001b[0m 9ms/step - accuracy: 0.8333 - loss: 0.4580 - val_accuracy: 0.8614 - val_loss: 0.4567\n",
      "Epoch 37/500\n",
      "\u001b[1m4798/4798\u001b[0m \u001b[32m━━━━━━━━━━━━━━━━━━━━\u001b[0m\u001b[37m\u001b[0m \u001b[1m44s\u001b[0m 9ms/step - accuracy: 0.8305 - loss: 0.4598 - val_accuracy: 0.8596 - val_loss: 0.4653\n",
      "Epoch 38/500\n",
      "\u001b[1m4798/4798\u001b[0m \u001b[32m━━━━━━━━━━━━━━━━━━━━\u001b[0m\u001b[37m\u001b[0m \u001b[1m44s\u001b[0m 9ms/step - accuracy: 0.8346 - loss: 0.4481 - val_accuracy: 0.8631 - val_loss: 0.4549\n",
      "Epoch 39/500\n",
      "\u001b[1m4798/4798\u001b[0m \u001b[32m━━━━━━━━━━━━━━━━━━━━\u001b[0m\u001b[37m\u001b[0m \u001b[1m44s\u001b[0m 9ms/step - accuracy: 0.8332 - loss: 0.4480 - val_accuracy: 0.8656 - val_loss: 0.4493\n",
      "Epoch 40/500\n",
      "\u001b[1m4798/4798\u001b[0m \u001b[32m━━━━━━━━━━━━━━━━━━━━\u001b[0m\u001b[37m\u001b[0m \u001b[1m43s\u001b[0m 9ms/step - accuracy: 0.8353 - loss: 0.4443 - val_accuracy: 0.8620 - val_loss: 0.4563\n",
      "Epoch 41/500\n",
      "\u001b[1m4798/4798\u001b[0m \u001b[32m━━━━━━━━━━━━━━━━━━━━\u001b[0m\u001b[37m\u001b[0m \u001b[1m44s\u001b[0m 9ms/step - accuracy: 0.8363 - loss: 0.4436 - val_accuracy: 0.8682 - val_loss: 0.4367\n",
      "Epoch 42/500\n",
      "\u001b[1m4798/4798\u001b[0m \u001b[32m━━━━━━━━━━━━━━━━━━━━\u001b[0m\u001b[37m\u001b[0m \u001b[1m44s\u001b[0m 9ms/step - accuracy: 0.8392 - loss: 0.4349 - val_accuracy: 0.8703 - val_loss: 0.4317\n",
      "Epoch 43/500\n",
      "\u001b[1m4798/4798\u001b[0m \u001b[32m━━━━━━━━━━━━━━━━━━━━\u001b[0m\u001b[37m\u001b[0m \u001b[1m43s\u001b[0m 9ms/step - accuracy: 0.8385 - loss: 0.4329 - val_accuracy: 0.8664 - val_loss: 0.4378\n",
      "Epoch 44/500\n",
      "\u001b[1m4798/4798\u001b[0m \u001b[32m━━━━━━━━━━━━━━━━━━━━\u001b[0m\u001b[37m\u001b[0m \u001b[1m44s\u001b[0m 9ms/step - accuracy: 0.8388 - loss: 0.4366 - val_accuracy: 0.8700 - val_loss: 0.4319\n",
      "Epoch 45/500\n",
      "\u001b[1m4798/4798\u001b[0m \u001b[32m━━━━━━━━━━━━━━━━━━━━\u001b[0m\u001b[37m\u001b[0m \u001b[1m44s\u001b[0m 9ms/step - accuracy: 0.8405 - loss: 0.4255 - val_accuracy: 0.8689 - val_loss: 0.4311\n",
      "Epoch 46/500\n",
      "\u001b[1m4798/4798\u001b[0m \u001b[32m━━━━━━━━━━━━━━━━━━━━\u001b[0m\u001b[37m\u001b[0m \u001b[1m44s\u001b[0m 9ms/step - accuracy: 0.8411 - loss: 0.4248 - val_accuracy: 0.8700 - val_loss: 0.4303\n",
      "Epoch 47/500\n",
      "\u001b[1m4798/4798\u001b[0m \u001b[32m━━━━━━━━━━━━━━━━━━━━\u001b[0m\u001b[37m\u001b[0m \u001b[1m44s\u001b[0m 9ms/step - accuracy: 0.8405 - loss: 0.4276 - val_accuracy: 0.8723 - val_loss: 0.4204\n",
      "Epoch 48/500\n",
      "\u001b[1m4798/4798\u001b[0m \u001b[32m━━━━━━━━━━━━━━━━━━━━\u001b[0m\u001b[37m\u001b[0m \u001b[1m43s\u001b[0m 9ms/step - accuracy: 0.8423 - loss: 0.4229 - val_accuracy: 0.8757 - val_loss: 0.4152\n",
      "Epoch 49/500\n",
      "\u001b[1m4798/4798\u001b[0m \u001b[32m━━━━━━━━━━━━━━━━━━━━\u001b[0m\u001b[37m\u001b[0m \u001b[1m43s\u001b[0m 9ms/step - accuracy: 0.8437 - loss: 0.4205 - val_accuracy: 0.8742 - val_loss: 0.4181\n",
      "Epoch 50/500\n",
      "\u001b[1m4798/4798\u001b[0m \u001b[32m━━━━━━━━━━━━━━━━━━━━\u001b[0m\u001b[37m\u001b[0m \u001b[1m44s\u001b[0m 9ms/step - accuracy: 0.8466 - loss: 0.4120 - val_accuracy: 0.8713 - val_loss: 0.4232\n",
      "Epoch 51/500\n",
      "\u001b[1m4798/4798\u001b[0m \u001b[32m━━━━━━━━━━━━━━━━━━━━\u001b[0m\u001b[37m\u001b[0m \u001b[1m44s\u001b[0m 9ms/step - accuracy: 0.8466 - loss: 0.4071 - val_accuracy: 0.8742 - val_loss: 0.4124\n",
      "Epoch 52/500\n",
      "\u001b[1m4798/4798\u001b[0m \u001b[32m━━━━━━━━━━━━━━━━━━━━\u001b[0m\u001b[37m\u001b[0m \u001b[1m44s\u001b[0m 9ms/step - accuracy: 0.8471 - loss: 0.4108 - val_accuracy: 0.8719 - val_loss: 0.4176\n",
      "Epoch 53/500\n",
      "\u001b[1m4798/4798\u001b[0m \u001b[32m━━━━━━━━━━━━━━━━━━━━\u001b[0m\u001b[37m\u001b[0m \u001b[1m44s\u001b[0m 9ms/step - accuracy: 0.8493 - loss: 0.4030 - val_accuracy: 0.8750 - val_loss: 0.4141\n",
      "Epoch 54/500\n",
      "\u001b[1m4798/4798\u001b[0m \u001b[32m━━━━━━━━━━━━━━━━━━━━\u001b[0m\u001b[37m\u001b[0m \u001b[1m44s\u001b[0m 9ms/step - accuracy: 0.8455 - loss: 0.4082 - val_accuracy: 0.8734 - val_loss: 0.4178\n",
      "Epoch 55/500\n",
      "\u001b[1m4798/4798\u001b[0m \u001b[32m━━━━━━━━━━━━━━━━━━━━\u001b[0m\u001b[37m\u001b[0m \u001b[1m44s\u001b[0m 9ms/step - accuracy: 0.8500 - loss: 0.4001 - val_accuracy: 0.8747 - val_loss: 0.4137\n",
      "Epoch 56/500\n",
      "\u001b[1m4798/4798\u001b[0m \u001b[32m━━━━━━━━━━━━━━━━━━━━\u001b[0m\u001b[37m\u001b[0m \u001b[1m44s\u001b[0m 9ms/step - accuracy: 0.8509 - loss: 0.3959 - val_accuracy: 0.8772 - val_loss: 0.4066\n",
      "Epoch 57/500\n",
      "\u001b[1m4798/4798\u001b[0m \u001b[32m━━━━━━━━━━━━━━━━━━━━\u001b[0m\u001b[37m\u001b[0m \u001b[1m44s\u001b[0m 9ms/step - accuracy: 0.8524 - loss: 0.3943 - val_accuracy: 0.8788 - val_loss: 0.4055\n",
      "Epoch 58/500\n",
      "\u001b[1m4798/4798\u001b[0m \u001b[32m━━━━━━━━━━━━━━━━━━━━\u001b[0m\u001b[37m\u001b[0m \u001b[1m44s\u001b[0m 9ms/step - accuracy: 0.8518 - loss: 0.3947 - val_accuracy: 0.8809 - val_loss: 0.3919\n",
      "Epoch 59/500\n",
      "\u001b[1m4798/4798\u001b[0m \u001b[32m━━━━━━━━━━━━━━━━━━━━\u001b[0m\u001b[37m\u001b[0m \u001b[1m44s\u001b[0m 9ms/step - accuracy: 0.8501 - loss: 0.3956 - val_accuracy: 0.8744 - val_loss: 0.4191\n",
      "Epoch 60/500\n",
      "\u001b[1m4798/4798\u001b[0m \u001b[32m━━━━━━━━━━━━━━━━━━━━\u001b[0m\u001b[37m\u001b[0m \u001b[1m44s\u001b[0m 9ms/step - accuracy: 0.8526 - loss: 0.3902 - val_accuracy: 0.8774 - val_loss: 0.4092\n",
      "Epoch 61/500\n",
      "\u001b[1m4798/4798\u001b[0m \u001b[32m━━━━━━━━━━━━━━━━━━━━\u001b[0m\u001b[37m\u001b[0m \u001b[1m44s\u001b[0m 9ms/step - accuracy: 0.8543 - loss: 0.3885 - val_accuracy: 0.8732 - val_loss: 0.4275\n",
      "Epoch 62/500\n",
      "\u001b[1m4798/4798\u001b[0m \u001b[32m━━━━━━━━━━━━━━━━━━━━\u001b[0m\u001b[37m\u001b[0m \u001b[1m44s\u001b[0m 9ms/step - accuracy: 0.8542 - loss: 0.3887 - val_accuracy: 0.8831 - val_loss: 0.3897\n",
      "Epoch 63/500\n",
      "\u001b[1m4798/4798\u001b[0m \u001b[32m━━━━━━━━━━━━━━━━━━━━\u001b[0m\u001b[37m\u001b[0m \u001b[1m45s\u001b[0m 9ms/step - accuracy: 0.8544 - loss: 0.3882 - val_accuracy: 0.8791 - val_loss: 0.4014\n",
      "Epoch 64/500\n",
      "\u001b[1m4798/4798\u001b[0m \u001b[32m━━━━━━━━━━━━━━━━━━━━\u001b[0m\u001b[37m\u001b[0m \u001b[1m45s\u001b[0m 9ms/step - accuracy: 0.8537 - loss: 0.3874 - val_accuracy: 0.8842 - val_loss: 0.3813\n",
      "Epoch 65/500\n",
      "\u001b[1m4798/4798\u001b[0m \u001b[32m━━━━━━━━━━━━━━━━━━━━\u001b[0m\u001b[37m\u001b[0m \u001b[1m46s\u001b[0m 10ms/step - accuracy: 0.8554 - loss: 0.3854 - val_accuracy: 0.8775 - val_loss: 0.4067\n",
      "Epoch 66/500\n",
      "\u001b[1m4798/4798\u001b[0m \u001b[32m━━━━━━━━━━━━━━━━━━━━\u001b[0m\u001b[37m\u001b[0m \u001b[1m46s\u001b[0m 10ms/step - accuracy: 0.8562 - loss: 0.3810 - val_accuracy: 0.8782 - val_loss: 0.4038\n",
      "Epoch 67/500\n",
      "\u001b[1m4798/4798\u001b[0m \u001b[32m━━━━━━━━━━━━━━━━━━━━\u001b[0m\u001b[37m\u001b[0m \u001b[1m46s\u001b[0m 10ms/step - accuracy: 0.8567 - loss: 0.3781 - val_accuracy: 0.8830 - val_loss: 0.3851\n",
      "Epoch 68/500\n",
      "\u001b[1m4798/4798\u001b[0m \u001b[32m━━━━━━━━━━━━━━━━━━━━\u001b[0m\u001b[37m\u001b[0m \u001b[1m46s\u001b[0m 10ms/step - accuracy: 0.8590 - loss: 0.3770 - val_accuracy: 0.8841 - val_loss: 0.3844\n",
      "Epoch 69/500\n",
      "\u001b[1m4798/4798\u001b[0m \u001b[32m━━━━━━━━━━━━━━━━━━━━\u001b[0m\u001b[37m\u001b[0m \u001b[1m46s\u001b[0m 10ms/step - accuracy: 0.8584 - loss: 0.3742 - val_accuracy: 0.8828 - val_loss: 0.3944\n",
      "Epoch 70/500\n",
      "\u001b[1m4798/4798\u001b[0m \u001b[32m━━━━━━━━━━━━━━━━━━━━\u001b[0m\u001b[37m\u001b[0m \u001b[1m45s\u001b[0m 9ms/step - accuracy: 0.8581 - loss: 0.3698 - val_accuracy: 0.8822 - val_loss: 0.3931\n",
      "Epoch 71/500\n",
      "\u001b[1m4798/4798\u001b[0m \u001b[32m━━━━━━━━━━━━━━━━━━━━\u001b[0m\u001b[37m\u001b[0m \u001b[1m51s\u001b[0m 11ms/step - accuracy: 0.8590 - loss: 0.3751 - val_accuracy: 0.8854 - val_loss: 0.3801\n",
      "Epoch 72/500\n",
      "\u001b[1m4798/4798\u001b[0m \u001b[32m━━━━━━━━━━━━━━━━━━━━\u001b[0m\u001b[37m\u001b[0m \u001b[1m48s\u001b[0m 10ms/step - accuracy: 0.8592 - loss: 0.3734 - val_accuracy: 0.8856 - val_loss: 0.3818\n",
      "Epoch 73/500\n",
      "\u001b[1m4798/4798\u001b[0m \u001b[32m━━━━━━━━━━━━━━━━━━━━\u001b[0m\u001b[37m\u001b[0m \u001b[1m47s\u001b[0m 10ms/step - accuracy: 0.8608 - loss: 0.3647 - val_accuracy: 0.8852 - val_loss: 0.3865\n",
      "Epoch 74/500\n",
      "\u001b[1m4798/4798\u001b[0m \u001b[32m━━━━━━━━━━━━━━━━━━━━\u001b[0m\u001b[37m\u001b[0m \u001b[1m46s\u001b[0m 10ms/step - accuracy: 0.8590 - loss: 0.3729 - val_accuracy: 0.8842 - val_loss: 0.3830\n",
      "Epoch 75/500\n",
      "\u001b[1m4798/4798\u001b[0m \u001b[32m━━━━━━━━━━━━━━━━━━━━\u001b[0m\u001b[37m\u001b[0m \u001b[1m48s\u001b[0m 10ms/step - accuracy: 0.8606 - loss: 0.3641 - val_accuracy: 0.8859 - val_loss: 0.3814\n",
      "Epoch 76/500\n",
      "\u001b[1m4798/4798\u001b[0m \u001b[32m━━━━━━━━━━━━━━━━━━━━\u001b[0m\u001b[37m\u001b[0m \u001b[1m54s\u001b[0m 11ms/step - accuracy: 0.8614 - loss: 0.3641 - val_accuracy: 0.8884 - val_loss: 0.3703\n",
      "Epoch 77/500\n",
      "\u001b[1m4798/4798\u001b[0m \u001b[32m━━━━━━━━━━━━━━━━━━━━\u001b[0m\u001b[37m\u001b[0m \u001b[1m52s\u001b[0m 11ms/step - accuracy: 0.8630 - loss: 0.3658 - val_accuracy: 0.8886 - val_loss: 0.3752\n",
      "Epoch 78/500\n",
      "\u001b[1m4798/4798\u001b[0m \u001b[32m━━━━━━━━━━━━━━━━━━━━\u001b[0m\u001b[37m\u001b[0m \u001b[1m56s\u001b[0m 12ms/step - accuracy: 0.8653 - loss: 0.3597 - val_accuracy: 0.8909 - val_loss: 0.3620\n",
      "Epoch 79/500\n",
      "\u001b[1m4798/4798\u001b[0m \u001b[32m━━━━━━━━━━━━━━━━━━━━\u001b[0m\u001b[37m\u001b[0m \u001b[1m51s\u001b[0m 11ms/step - accuracy: 0.8640 - loss: 0.3626 - val_accuracy: 0.8883 - val_loss: 0.3711\n",
      "Epoch 80/500\n",
      "\u001b[1m4798/4798\u001b[0m \u001b[32m━━━━━━━━━━━━━━━━━━━━\u001b[0m\u001b[37m\u001b[0m \u001b[1m46s\u001b[0m 9ms/step - accuracy: 0.8649 - loss: 0.3569 - val_accuracy: 0.8881 - val_loss: 0.3715\n",
      "Epoch 81/500\n",
      "\u001b[1m4798/4798\u001b[0m \u001b[32m━━━━━━━━━━━━━━━━━━━━\u001b[0m\u001b[37m\u001b[0m \u001b[1m45s\u001b[0m 9ms/step - accuracy: 0.8640 - loss: 0.3569 - val_accuracy: 0.8910 - val_loss: 0.3609\n",
      "Epoch 82/500\n",
      "\u001b[1m4798/4798\u001b[0m \u001b[32m━━━━━━━━━━━━━━━━━━━━\u001b[0m\u001b[37m\u001b[0m \u001b[1m44s\u001b[0m 9ms/step - accuracy: 0.8648 - loss: 0.3553 - val_accuracy: 0.8903 - val_loss: 0.3664\n",
      "Epoch 83/500\n",
      "\u001b[1m4798/4798\u001b[0m \u001b[32m━━━━━━━━━━━━━━━━━━━━\u001b[0m\u001b[37m\u001b[0m \u001b[1m51s\u001b[0m 11ms/step - accuracy: 0.8656 - loss: 0.3544 - val_accuracy: 0.8929 - val_loss: 0.3583\n",
      "Epoch 84/500\n",
      "\u001b[1m4798/4798\u001b[0m \u001b[32m━━━━━━━━━━━━━━━━━━━━\u001b[0m\u001b[37m\u001b[0m \u001b[1m48s\u001b[0m 10ms/step - accuracy: 0.8683 - loss: 0.3470 - val_accuracy: 0.8872 - val_loss: 0.3740\n",
      "Epoch 85/500\n",
      "\u001b[1m4798/4798\u001b[0m \u001b[32m━━━━━━━━━━━━━━━━━━━━\u001b[0m\u001b[37m\u001b[0m \u001b[1m47s\u001b[0m 10ms/step - accuracy: 0.8668 - loss: 0.3509 - val_accuracy: 0.8908 - val_loss: 0.3641\n",
      "Epoch 86/500\n",
      "\u001b[1m4798/4798\u001b[0m \u001b[32m━━━━━━━━━━━━━━━━━━━━\u001b[0m\u001b[37m\u001b[0m \u001b[1m47s\u001b[0m 10ms/step - accuracy: 0.8676 - loss: 0.3485 - val_accuracy: 0.8923 - val_loss: 0.3546\n",
      "Epoch 87/500\n",
      "\u001b[1m4798/4798\u001b[0m \u001b[32m━━━━━━━━━━━━━━━━━━━━\u001b[0m\u001b[37m\u001b[0m \u001b[1m43s\u001b[0m 9ms/step - accuracy: 0.8673 - loss: 0.3474 - val_accuracy: 0.8947 - val_loss: 0.3538\n",
      "Epoch 88/500\n",
      "\u001b[1m4798/4798\u001b[0m \u001b[32m━━━━━━━━━━━━━━━━━━━━\u001b[0m\u001b[37m\u001b[0m \u001b[1m43s\u001b[0m 9ms/step - accuracy: 0.8686 - loss: 0.3452 - val_accuracy: 0.8936 - val_loss: 0.3543\n",
      "Epoch 89/500\n",
      "\u001b[1m4798/4798\u001b[0m \u001b[32m━━━━━━━━━━━━━━━━━━━━\u001b[0m\u001b[37m\u001b[0m \u001b[1m43s\u001b[0m 9ms/step - accuracy: 0.8685 - loss: 0.3467 - val_accuracy: 0.8859 - val_loss: 0.3834\n",
      "Epoch 90/500\n",
      "\u001b[1m4798/4798\u001b[0m \u001b[32m━━━━━━━━━━━━━━━━━━━━\u001b[0m\u001b[37m\u001b[0m \u001b[1m47s\u001b[0m 10ms/step - accuracy: 0.8669 - loss: 0.3472 - val_accuracy: 0.8915 - val_loss: 0.3583\n",
      "Epoch 91/500\n",
      "\u001b[1m4798/4798\u001b[0m \u001b[32m━━━━━━━━━━━━━━━━━━━━\u001b[0m\u001b[37m\u001b[0m \u001b[1m45s\u001b[0m 9ms/step - accuracy: 0.8703 - loss: 0.3427 - val_accuracy: 0.8952 - val_loss: 0.3517\n",
      "Epoch 92/500\n",
      "\u001b[1m4798/4798\u001b[0m \u001b[32m━━━━━━━━━━━━━━━━━━━━\u001b[0m\u001b[37m\u001b[0m \u001b[1m46s\u001b[0m 10ms/step - accuracy: 0.8677 - loss: 0.3460 - val_accuracy: 0.8937 - val_loss: 0.3567\n",
      "Epoch 93/500\n",
      "\u001b[1m4798/4798\u001b[0m \u001b[32m━━━━━━━━━━━━━━━━━━━━\u001b[0m\u001b[37m\u001b[0m \u001b[1m46s\u001b[0m 10ms/step - accuracy: 0.8691 - loss: 0.3447 - val_accuracy: 0.8915 - val_loss: 0.3602\n",
      "Epoch 94/500\n",
      "\u001b[1m4798/4798\u001b[0m \u001b[32m━━━━━━━━━━━━━━━━━━━━\u001b[0m\u001b[37m\u001b[0m \u001b[1m46s\u001b[0m 10ms/step - accuracy: 0.8688 - loss: 0.3453 - val_accuracy: 0.8939 - val_loss: 0.3588\n",
      "Epoch 95/500\n",
      "\u001b[1m4798/4798\u001b[0m \u001b[32m━━━━━━━━━━━━━━━━━━━━\u001b[0m\u001b[37m\u001b[0m \u001b[1m49s\u001b[0m 10ms/step - accuracy: 0.8698 - loss: 0.3431 - val_accuracy: 0.8911 - val_loss: 0.3683\n",
      "Epoch 96/500\n",
      "\u001b[1m4798/4798\u001b[0m \u001b[32m━━━━━━━━━━━━━━━━━━━━\u001b[0m\u001b[37m\u001b[0m \u001b[1m43s\u001b[0m 9ms/step - accuracy: 0.8681 - loss: 0.3453 - val_accuracy: 0.8952 - val_loss: 0.3475\n",
      "Epoch 97/500\n",
      "\u001b[1m4798/4798\u001b[0m \u001b[32m━━━━━━━━━━━━━━━━━━━━\u001b[0m\u001b[37m\u001b[0m \u001b[1m43s\u001b[0m 9ms/step - accuracy: 0.8703 - loss: 0.3426 - val_accuracy: 0.8949 - val_loss: 0.3449\n",
      "Epoch 98/500\n",
      "\u001b[1m4798/4798\u001b[0m \u001b[32m━━━━━━━━━━━━━━━━━━━━\u001b[0m\u001b[37m\u001b[0m \u001b[1m44s\u001b[0m 9ms/step - accuracy: 0.8723 - loss: 0.3368 - val_accuracy: 0.8930 - val_loss: 0.3492\n",
      "Epoch 99/500\n",
      "\u001b[1m4798/4798\u001b[0m \u001b[32m━━━━━━━━━━━━━━━━━━━━\u001b[0m\u001b[37m\u001b[0m \u001b[1m44s\u001b[0m 9ms/step - accuracy: 0.8702 - loss: 0.3367 - val_accuracy: 0.8947 - val_loss: 0.3473\n",
      "Epoch 100/500\n",
      "\u001b[1m4798/4798\u001b[0m \u001b[32m━━━━━━━━━━━━━━━━━━━━\u001b[0m\u001b[37m\u001b[0m \u001b[1m45s\u001b[0m 9ms/step - accuracy: 0.8730 - loss: 0.3321 - val_accuracy: 0.8957 - val_loss: 0.3442\n",
      "Epoch 101/500\n",
      "\u001b[1m4798/4798\u001b[0m \u001b[32m━━━━━━━━━━━━━━━━━━━━\u001b[0m\u001b[37m\u001b[0m \u001b[1m48s\u001b[0m 10ms/step - accuracy: 0.8705 - loss: 0.3397 - val_accuracy: 0.8953 - val_loss: 0.3441\n",
      "Epoch 102/500\n",
      "\u001b[1m4798/4798\u001b[0m \u001b[32m━━━━━━━━━━━━━━━━━━━━\u001b[0m\u001b[37m\u001b[0m \u001b[1m48s\u001b[0m 10ms/step - accuracy: 0.8715 - loss: 0.3332 - val_accuracy: 0.8973 - val_loss: 0.3461\n",
      "Epoch 103/500\n",
      "\u001b[1m4798/4798\u001b[0m \u001b[32m━━━━━━━━━━━━━━━━━━━━\u001b[0m\u001b[37m\u001b[0m \u001b[1m48s\u001b[0m 10ms/step - accuracy: 0.8712 - loss: 0.3389 - val_accuracy: 0.8937 - val_loss: 0.3528\n",
      "Epoch 104/500\n",
      "\u001b[1m4798/4798\u001b[0m \u001b[32m━━━━━━━━━━━━━━━━━━━━\u001b[0m\u001b[37m\u001b[0m \u001b[1m48s\u001b[0m 10ms/step - accuracy: 0.8734 - loss: 0.3285 - val_accuracy: 0.8972 - val_loss: 0.3478\n",
      "Epoch 105/500\n",
      "\u001b[1m4798/4798\u001b[0m \u001b[32m━━━━━━━━━━━━━━━━━━━━\u001b[0m\u001b[37m\u001b[0m \u001b[1m48s\u001b[0m 10ms/step - accuracy: 0.8733 - loss: 0.3361 - val_accuracy: 0.8979 - val_loss: 0.3355\n",
      "Epoch 106/500\n",
      "\u001b[1m4798/4798\u001b[0m \u001b[32m━━━━━━━━━━━━━━━━━━━━\u001b[0m\u001b[37m\u001b[0m \u001b[1m49s\u001b[0m 10ms/step - accuracy: 0.8743 - loss: 0.3303 - val_accuracy: 0.8958 - val_loss: 0.3500\n",
      "Epoch 107/500\n",
      "\u001b[1m4798/4798\u001b[0m \u001b[32m━━━━━━━━━━━━━━━━━━━━\u001b[0m\u001b[37m\u001b[0m \u001b[1m49s\u001b[0m 10ms/step - accuracy: 0.8740 - loss: 0.3273 - val_accuracy: 0.8959 - val_loss: 0.3494\n",
      "Epoch 108/500\n",
      "\u001b[1m4798/4798\u001b[0m \u001b[32m━━━━━━━━━━━━━━━━━━━━\u001b[0m\u001b[37m\u001b[0m \u001b[1m49s\u001b[0m 10ms/step - accuracy: 0.8743 - loss: 0.3274 - val_accuracy: 0.8966 - val_loss: 0.3412\n",
      "Epoch 109/500\n",
      "\u001b[1m4798/4798\u001b[0m \u001b[32m━━━━━━━━━━━━━━━━━━━━\u001b[0m\u001b[37m\u001b[0m \u001b[1m50s\u001b[0m 10ms/step - accuracy: 0.8746 - loss: 0.3299 - val_accuracy: 0.8963 - val_loss: 0.3426\n",
      "Epoch 110/500\n",
      "\u001b[1m4798/4798\u001b[0m \u001b[32m━━━━━━━━━━━━━━━━━━━━\u001b[0m\u001b[37m\u001b[0m \u001b[1m48s\u001b[0m 10ms/step - accuracy: 0.8754 - loss: 0.3280 - val_accuracy: 0.8980 - val_loss: 0.3369\n",
      "Epoch 111/500\n",
      "\u001b[1m4798/4798\u001b[0m \u001b[32m━━━━━━━━━━━━━━━━━━━━\u001b[0m\u001b[37m\u001b[0m \u001b[1m48s\u001b[0m 10ms/step - accuracy: 0.8750 - loss: 0.3267 - val_accuracy: 0.8939 - val_loss: 0.3528\n",
      "Epoch 112/500\n",
      "\u001b[1m4798/4798\u001b[0m \u001b[32m━━━━━━━━━━━━━━━━━━━━\u001b[0m\u001b[37m\u001b[0m \u001b[1m46s\u001b[0m 10ms/step - accuracy: 0.8770 - loss: 0.3261 - val_accuracy: 0.8988 - val_loss: 0.3419\n",
      "Epoch 113/500\n",
      "\u001b[1m4798/4798\u001b[0m \u001b[32m━━━━━━━━━━━━━━━━━━━━\u001b[0m\u001b[37m\u001b[0m \u001b[1m45s\u001b[0m 9ms/step - accuracy: 0.8754 - loss: 0.3260 - val_accuracy: 0.8990 - val_loss: 0.3383\n",
      "Epoch 114/500\n",
      "\u001b[1m4798/4798\u001b[0m \u001b[32m━━━━━━━━━━━━━━━━━━━━\u001b[0m\u001b[37m\u001b[0m \u001b[1m45s\u001b[0m 9ms/step - accuracy: 0.8750 - loss: 0.3287 - val_accuracy: 0.8980 - val_loss: 0.3454\n",
      "Epoch 115/500\n",
      "\u001b[1m4798/4798\u001b[0m \u001b[32m━━━━━━━━━━━━━━━━━━━━\u001b[0m\u001b[37m\u001b[0m \u001b[1m46s\u001b[0m 10ms/step - accuracy: 0.8764 - loss: 0.3235 - val_accuracy: 0.8989 - val_loss: 0.3340\n",
      "Epoch 116/500\n",
      "\u001b[1m4798/4798\u001b[0m \u001b[32m━━━━━━━━━━━━━━━━━━━━\u001b[0m\u001b[37m\u001b[0m \u001b[1m47s\u001b[0m 10ms/step - accuracy: 0.8760 - loss: 0.3260 - val_accuracy: 0.8990 - val_loss: 0.3330\n",
      "Epoch 117/500\n",
      "\u001b[1m4798/4798\u001b[0m \u001b[32m━━━━━━━━━━━━━━━━━━━━\u001b[0m\u001b[37m\u001b[0m \u001b[1m50s\u001b[0m 10ms/step - accuracy: 0.8755 - loss: 0.3226 - val_accuracy: 0.8936 - val_loss: 0.3543\n",
      "Epoch 118/500\n",
      "\u001b[1m4798/4798\u001b[0m \u001b[32m━━━━━━━━━━━━━━━━━━━━\u001b[0m\u001b[37m\u001b[0m \u001b[1m51s\u001b[0m 11ms/step - accuracy: 0.8766 - loss: 0.3239 - val_accuracy: 0.8972 - val_loss: 0.3420\n",
      "Epoch 119/500\n",
      "\u001b[1m4798/4798\u001b[0m \u001b[32m━━━━━━━━━━━━━━━━━━━━\u001b[0m\u001b[37m\u001b[0m \u001b[1m53s\u001b[0m 11ms/step - accuracy: 0.8769 - loss: 0.3199 - val_accuracy: 0.8969 - val_loss: 0.3395\n",
      "Epoch 120/500\n",
      "\u001b[1m4798/4798\u001b[0m \u001b[32m━━━━━━━━━━━━━━━━━━━━\u001b[0m\u001b[37m\u001b[0m \u001b[1m52s\u001b[0m 11ms/step - accuracy: 0.8788 - loss: 0.3196 - val_accuracy: 0.8982 - val_loss: 0.3377\n",
      "Epoch 121/500\n",
      "\u001b[1m4798/4798\u001b[0m \u001b[32m━━━━━━━━━━━━━━━━━━━━\u001b[0m\u001b[37m\u001b[0m \u001b[1m49s\u001b[0m 10ms/step - accuracy: 0.8755 - loss: 0.3214 - val_accuracy: 0.8995 - val_loss: 0.3347\n",
      "Epoch 122/500\n",
      "\u001b[1m4798/4798\u001b[0m \u001b[32m━━━━━━━━━━━━━━━━━━━━\u001b[0m\u001b[37m\u001b[0m \u001b[1m46s\u001b[0m 9ms/step - accuracy: 0.8770 - loss: 0.3220 - val_accuracy: 0.8985 - val_loss: 0.3389\n",
      "Epoch 123/500\n",
      "\u001b[1m4798/4798\u001b[0m \u001b[32m━━━━━━━━━━━━━━━━━━━━\u001b[0m\u001b[37m\u001b[0m \u001b[1m46s\u001b[0m 10ms/step - accuracy: 0.8774 - loss: 0.3176 - val_accuracy: 0.8994 - val_loss: 0.3368\n",
      "Epoch 124/500\n",
      "\u001b[1m4798/4798\u001b[0m \u001b[32m━━━━━━━━━━━━━━━━━━━━\u001b[0m\u001b[37m\u001b[0m \u001b[1m50s\u001b[0m 10ms/step - accuracy: 0.8813 - loss: 0.3095 - val_accuracy: 0.9003 - val_loss: 0.3294\n",
      "Epoch 125/500\n",
      "\u001b[1m4798/4798\u001b[0m \u001b[32m━━━━━━━━━━━━━━━━━━━━\u001b[0m\u001b[37m\u001b[0m \u001b[1m51s\u001b[0m 11ms/step - accuracy: 0.8792 - loss: 0.3110 - val_accuracy: 0.8984 - val_loss: 0.3372\n",
      "Epoch 126/500\n",
      "\u001b[1m4798/4798\u001b[0m \u001b[32m━━━━━━━━━━━━━━━━━━━━\u001b[0m\u001b[37m\u001b[0m \u001b[1m46s\u001b[0m 10ms/step - accuracy: 0.8789 - loss: 0.3156 - val_accuracy: 0.9022 - val_loss: 0.3250\n",
      "Epoch 127/500\n",
      "\u001b[1m4798/4798\u001b[0m \u001b[32m━━━━━━━━━━━━━━━━━━━━\u001b[0m\u001b[37m\u001b[0m \u001b[1m53s\u001b[0m 11ms/step - accuracy: 0.8789 - loss: 0.3169 - val_accuracy: 0.8940 - val_loss: 0.3545\n",
      "Epoch 128/500\n",
      "\u001b[1m4798/4798\u001b[0m \u001b[32m━━━━━━━━━━━━━━━━━━━━\u001b[0m\u001b[37m\u001b[0m \u001b[1m57s\u001b[0m 12ms/step - accuracy: 0.8788 - loss: 0.3165 - val_accuracy: 0.8977 - val_loss: 0.3418\n",
      "Epoch 129/500\n",
      "\u001b[1m4798/4798\u001b[0m \u001b[32m━━━━━━━━━━━━━━━━━━━━\u001b[0m\u001b[37m\u001b[0m \u001b[1m60s\u001b[0m 12ms/step - accuracy: 0.8792 - loss: 0.3155 - val_accuracy: 0.9037 - val_loss: 0.3242\n",
      "Epoch 130/500\n",
      "\u001b[1m4798/4798\u001b[0m \u001b[32m━━━━━━━━━━━━━━━━━━━━\u001b[0m\u001b[37m\u001b[0m \u001b[1m55s\u001b[0m 11ms/step - accuracy: 0.8804 - loss: 0.3156 - val_accuracy: 0.9023 - val_loss: 0.3265\n",
      "Epoch 131/500\n",
      "\u001b[1m4798/4798\u001b[0m \u001b[32m━━━━━━━━━━━━━━━━━━━━\u001b[0m\u001b[37m\u001b[0m \u001b[1m50s\u001b[0m 10ms/step - accuracy: 0.8798 - loss: 0.3114 - val_accuracy: 0.9023 - val_loss: 0.3319\n",
      "Epoch 132/500\n",
      "\u001b[1m4798/4798\u001b[0m \u001b[32m━━━━━━━━━━━━━━━━━━━━\u001b[0m\u001b[37m\u001b[0m \u001b[1m49s\u001b[0m 10ms/step - accuracy: 0.8821 - loss: 0.3078 - val_accuracy: 0.9031 - val_loss: 0.3231\n",
      "Epoch 133/500\n",
      "\u001b[1m4798/4798\u001b[0m \u001b[32m━━━━━━━━━━━━━━━━━━━━\u001b[0m\u001b[37m\u001b[0m \u001b[1m56s\u001b[0m 12ms/step - accuracy: 0.8792 - loss: 0.3138 - val_accuracy: 0.9027 - val_loss: 0.3257\n",
      "Epoch 134/500\n",
      "\u001b[1m4798/4798\u001b[0m \u001b[32m━━━━━━━━━━━━━━━━━━━━\u001b[0m\u001b[37m\u001b[0m \u001b[1m52s\u001b[0m 11ms/step - accuracy: 0.8796 - loss: 0.3153 - val_accuracy: 0.9029 - val_loss: 0.3285\n",
      "Epoch 135/500\n",
      "\u001b[1m4798/4798\u001b[0m \u001b[32m━━━━━━━━━━━━━━━━━━━━\u001b[0m\u001b[37m\u001b[0m \u001b[1m48s\u001b[0m 10ms/step - accuracy: 0.8802 - loss: 0.3119 - val_accuracy: 0.9045 - val_loss: 0.3199\n",
      "Epoch 136/500\n",
      "\u001b[1m4798/4798\u001b[0m \u001b[32m━━━━━━━━━━━━━━━━━━━━\u001b[0m\u001b[37m\u001b[0m \u001b[1m47s\u001b[0m 10ms/step - accuracy: 0.8828 - loss: 0.3059 - val_accuracy: 0.9016 - val_loss: 0.3308\n",
      "Epoch 137/500\n",
      "\u001b[1m4798/4798\u001b[0m \u001b[32m━━━━━━━━━━━━━━━━━━━━\u001b[0m\u001b[37m\u001b[0m \u001b[1m47s\u001b[0m 10ms/step - accuracy: 0.8829 - loss: 0.3042 - val_accuracy: 0.9020 - val_loss: 0.3297\n",
      "Epoch 138/500\n",
      "\u001b[1m4798/4798\u001b[0m \u001b[32m━━━━━━━━━━━━━━━━━━━━\u001b[0m\u001b[37m\u001b[0m \u001b[1m53s\u001b[0m 11ms/step - accuracy: 0.8816 - loss: 0.3074 - val_accuracy: 0.9009 - val_loss: 0.3284\n",
      "Epoch 139/500\n",
      "\u001b[1m4798/4798\u001b[0m \u001b[32m━━━━━━━━━━━━━━━━━━━━\u001b[0m\u001b[37m\u001b[0m \u001b[1m53s\u001b[0m 11ms/step - accuracy: 0.8819 - loss: 0.3072 - val_accuracy: 0.8990 - val_loss: 0.3437\n",
      "Epoch 140/500\n",
      "\u001b[1m4798/4798\u001b[0m \u001b[32m━━━━━━━━━━━━━━━━━━━━\u001b[0m\u001b[37m\u001b[0m \u001b[1m51s\u001b[0m 11ms/step - accuracy: 0.8831 - loss: 0.3073 - val_accuracy: 0.9013 - val_loss: 0.3340\n",
      "Epoch 141/500\n",
      "\u001b[1m4798/4798\u001b[0m \u001b[32m━━━━━━━━━━━━━━━━━━━━\u001b[0m\u001b[37m\u001b[0m \u001b[1m56s\u001b[0m 12ms/step - accuracy: 0.8820 - loss: 0.3063 - val_accuracy: 0.9027 - val_loss: 0.3268\n",
      "Epoch 142/500\n",
      "\u001b[1m4798/4798\u001b[0m \u001b[32m━━━━━━━━━━━━━━━━━━━━\u001b[0m\u001b[37m\u001b[0m \u001b[1m60s\u001b[0m 12ms/step - accuracy: 0.8827 - loss: 0.3078 - val_accuracy: 0.9030 - val_loss: 0.3263\n",
      "Epoch 143/500\n",
      "\u001b[1m4798/4798\u001b[0m \u001b[32m━━━━━━━━━━━━━━━━━━━━\u001b[0m\u001b[37m\u001b[0m \u001b[1m58s\u001b[0m 12ms/step - accuracy: 0.8829 - loss: 0.3041 - val_accuracy: 0.9050 - val_loss: 0.3185\n",
      "Epoch 144/500\n",
      "\u001b[1m4798/4798\u001b[0m \u001b[32m━━━━━━━━━━━━━━━━━━━━\u001b[0m\u001b[37m\u001b[0m \u001b[1m59s\u001b[0m 12ms/step - accuracy: 0.8845 - loss: 0.3009 - val_accuracy: 0.9064 - val_loss: 0.3101\n",
      "Epoch 145/500\n",
      "\u001b[1m4798/4798\u001b[0m \u001b[32m━━━━━━━━━━━━━━━━━━━━\u001b[0m\u001b[37m\u001b[0m \u001b[1m52s\u001b[0m 11ms/step - accuracy: 0.8848 - loss: 0.3000 - val_accuracy: 0.9035 - val_loss: 0.3226\n",
      "Epoch 146/500\n",
      "\u001b[1m4798/4798\u001b[0m \u001b[32m━━━━━━━━━━━━━━━━━━━━\u001b[0m\u001b[37m\u001b[0m \u001b[1m55s\u001b[0m 11ms/step - accuracy: 0.8820 - loss: 0.3050 - val_accuracy: 0.9048 - val_loss: 0.3204\n",
      "Epoch 147/500\n",
      "\u001b[1m4798/4798\u001b[0m \u001b[32m━━━━━━━━━━━━━━━━━━━━\u001b[0m\u001b[37m\u001b[0m \u001b[1m54s\u001b[0m 11ms/step - accuracy: 0.8836 - loss: 0.2968 - val_accuracy: 0.9025 - val_loss: 0.3301\n",
      "Epoch 148/500\n",
      "\u001b[1m4798/4798\u001b[0m \u001b[32m━━━━━━━━━━━━━━━━━━━━\u001b[0m\u001b[37m\u001b[0m \u001b[1m50s\u001b[0m 10ms/step - accuracy: 0.8834 - loss: 0.3037 - val_accuracy: 0.9050 - val_loss: 0.3207\n",
      "Epoch 149/500\n",
      "\u001b[1m4798/4798\u001b[0m \u001b[32m━━━━━━━━━━━━━━━━━━━━\u001b[0m\u001b[37m\u001b[0m \u001b[1m53s\u001b[0m 11ms/step - accuracy: 0.8840 - loss: 0.3015 - val_accuracy: 0.8991 - val_loss: 0.3410\n",
      "Epoch 150/500\n",
      "\u001b[1m4798/4798\u001b[0m \u001b[32m━━━━━━━━━━━━━━━━━━━━\u001b[0m\u001b[37m\u001b[0m \u001b[1m50s\u001b[0m 10ms/step - accuracy: 0.8839 - loss: 0.3029 - val_accuracy: 0.9049 - val_loss: 0.3240\n",
      "Epoch 151/500\n",
      "\u001b[1m4798/4798\u001b[0m \u001b[32m━━━━━━━━━━━━━━━━━━━━\u001b[0m\u001b[37m\u001b[0m \u001b[1m52s\u001b[0m 11ms/step - accuracy: 0.8862 - loss: 0.2969 - val_accuracy: 0.9044 - val_loss: 0.3192\n",
      "Epoch 152/500\n",
      "\u001b[1m4798/4798\u001b[0m \u001b[32m━━━━━━━━━━━━━━━━━━━━\u001b[0m\u001b[37m\u001b[0m \u001b[1m53s\u001b[0m 11ms/step - accuracy: 0.8857 - loss: 0.2964 - val_accuracy: 0.9065 - val_loss: 0.3122\n",
      "Epoch 153/500\n",
      "\u001b[1m4798/4798\u001b[0m \u001b[32m━━━━━━━━━━━━━━━━━━━━\u001b[0m\u001b[37m\u001b[0m \u001b[1m49s\u001b[0m 10ms/step - accuracy: 0.8865 - loss: 0.2962 - val_accuracy: 0.9049 - val_loss: 0.3178\n",
      "Epoch 154/500\n",
      "\u001b[1m4798/4798\u001b[0m \u001b[32m━━━━━━━━━━━━━━━━━━━━\u001b[0m\u001b[37m\u001b[0m \u001b[1m58s\u001b[0m 12ms/step - accuracy: 0.8839 - loss: 0.3022 - val_accuracy: 0.9054 - val_loss: 0.3140\n"
     ]
    }
   ],
   "source": [
    "early_stopping = tf.keras.callbacks.EarlyStopping(\n",
    "    patience=10,\n",
    "    restore_best_weights=True,\n",
    ")\n",
    "\n",
    "history = model_lstm.fit(\n",
    "    X_seq_train,\n",
    "    y_seq_train,\n",
    "    epochs=500,\n",
    "    batch_size=32,\n",
    "    validation_split=0.2,\n",
    "    verbose=1,\n",
    "    callbacks=[early_stopping],\n",
    "    class_weight=class_weight_dict,\n",
    ")"
   ]
  },
  {
   "cell_type": "code",
   "execution_count": 14,
   "id": "bbe57051-ac8b-497a-b8ef-96279b0662be",
   "metadata": {},
   "outputs": [
    {
     "name": "stdout",
     "output_type": "stream",
     "text": [
      "\u001b[1m1500/1500\u001b[0m \u001b[32m━━━━━━━━━━━━━━━━━━━━\u001b[0m\u001b[37m\u001b[0m \u001b[1m4s\u001b[0m 3ms/step - accuracy: 0.9138 - loss: 0.2859\n",
      "\u001b[1m1500/1500\u001b[0m \u001b[32m━━━━━━━━━━━━━━━━━━━━\u001b[0m\u001b[37m\u001b[0m \u001b[1m5s\u001b[0m 3ms/step\n",
      "              precision    recall  f1-score   support\n",
      "\n",
      "          A7       0.83      0.97      0.89       477\n",
      "       AMaj7       0.91      0.92      0.91      1372\n",
      "       AMin7       0.91      0.88      0.90      2224\n",
      "         Ab7       0.86      0.96      0.91       485\n",
      "      AbMaj7       0.89      0.94      0.91      1276\n",
      "      AbMin7       0.94      0.88      0.91      2322\n",
      "          B7       0.83      0.98      0.90       507\n",
      "       BMaj7       0.89      0.93      0.91      1227\n",
      "       BMin7       0.93      0.89      0.91      2165\n",
      "         Bb7       0.86      0.97      0.92       485\n",
      "      BbMaj7       0.85      0.95      0.90      1254\n",
      "      BbMin7       0.90      0.91      0.90      2205\n",
      "          C7       0.83      0.98      0.90       480\n",
      "       CMaj7       0.91      0.94      0.92      1281\n",
      "       CMin7       0.93      0.86      0.90      2326\n",
      "          D7       0.85      0.97      0.90       480\n",
      "       DMaj7       0.91      0.93      0.92      1242\n",
      "       DMin7       0.94      0.89      0.91      2208\n",
      "         Db7       0.85      0.95      0.90       485\n",
      "      DbMaj7       0.92      0.92      0.92      1248\n",
      "      DbMin7       0.92      0.90      0.91      2303\n",
      "          E7       0.86      0.97      0.91       469\n",
      "       EMaj7       0.91      0.92      0.91      1304\n",
      "       EMin7       0.92      0.89      0.91      2233\n",
      "         Eb7       0.86      0.95      0.90       478\n",
      "      EbMaj7       0.93      0.91      0.92      1237\n",
      "      EbMin7       0.93      0.88      0.91      2177\n",
      "          F7       0.84      0.97      0.90       468\n",
      "       FMaj7       0.92      0.92      0.92      1256\n",
      "       FMin7       0.95      0.87      0.91      2249\n",
      "          G7       0.86      0.96      0.91       538\n",
      "       GMaj7       0.93      0.91      0.92      1250\n",
      "       GMin7       0.92      0.90      0.91      2175\n",
      "         Gb7       0.84      0.98      0.90       472\n",
      "      GbMaj7       0.92      0.94      0.93      1299\n",
      "      GbMin7       0.94      0.89      0.92      2320\n",
      "\n",
      "    accuracy                           0.91     47977\n",
      "   macro avg       0.89      0.93      0.91     47977\n",
      "weighted avg       0.91      0.91      0.91     47977\n",
      "\n"
     ]
    }
   ],
   "source": [
    "model_lstm.evaluate(X_seq_test, y_seq_test)\n",
    "y_pred = np.argmax(model_lstm.predict(X_seq_test), axis=1)\n",
    "print(\n",
    "  sk.metrics.classification_report(y_seq_test, y_pred, target_names=encoder.classes_)\n",
    ")"
   ]
  },
  {
   "cell_type": "code",
   "execution_count": 24,
   "id": "98e27c8a-4e52-4901-914d-415a6c28cdad",
   "metadata": {},
   "outputs": [
    {
     "data": {
      "text/plain": [
       "<Figure size 1600x1600 with 0 Axes>"
      ]
     },
     "metadata": {},
     "output_type": "display_data"
    },
    {
     "data": {
      "image/png": "[encoded data removed]",
      "text/plain": [
       "<Figure size 640x480 with 2 Axes>"
      ]
     },
     "metadata": {},
     "output_type": "display_data"
    }
   ],
   "source": [
    "cm = sk.metrics.confusion_matrix(y_seq_test, y_pred)\n",
    "disp = sk.metrics.ConfusionMatrixDisplay(confusion_matrix=cm, display_labels=encoder.classes_)\n",
    "plt.figure(figsize=(16, 16))\n",
    "disp.plot(cmap=\"Blues\", xticks_rotation=90)\n",
    "plt.show()"
   ]
  },
  {
   "cell_type": "code",
   "execution_count": 17,
   "id": "5ea20c89-c560-42a6-9a76-b8114534bc03",
   "metadata": {},
   "outputs": [],
   "source": [
    "model_lstm.save(\"model_lstm_cens_32_32.keras\")\n",
    "pd.DataFrame(history.history).to_csv(\"model_lstm_cens_32_32_history.csv\", index=False)"
   ]
  },
  {
   "cell_type": "code",
   "execution_count": null,
   "id": "64a8f23f-b93b-44c3-aeb9-e3d1debe044d",
   "metadata": {},
   "outputs": [],
   "source": []
  }
 ],
 "metadata": {
  "kernelspec": {
   "display_name": "thesis_venv",
   "language": "python",
   "name": "thesis_venv"
  },
  "language_info": {
   "codemirror_mode": {
    "name": "ipython",
    "version": 3
   },
   "file_extension": ".py",
   "mimetype": "text/x-python",
   "name": "python",
   "nbconvert_exporter": "python",
   "pygments_lexer": "ipython3",
   "version": "3.13.5"
  }
 },
 "nbformat": 4,
 "nbformat_minor": 5
}
